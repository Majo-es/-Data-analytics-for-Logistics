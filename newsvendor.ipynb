{
  "cells": [
    {
      "cell_type": "code",
      "execution_count": null,
      "id": "db2429f5",
      "metadata": {
        "id": "db2429f5"
      },
      "outputs": [],
      "source": [
        "import numpy as np\n",
        "import pandas as pd"
      ]
    },
    {
      "cell_type": "code",
      "execution_count": null,
      "id": "226be6c5",
      "metadata": {
        "colab": {
          "base_uri": "https://localhost:8080/"
        },
        "id": "226be6c5",
        "outputId": "b4c495fb-e512-4a30-f195-1b5045bf4074"
      },
      "outputs": [
        {
          "output_type": "stream",
          "name": "stdout",
          "text": [
            "   x     f     F\n",
            "0  0  0.00  0.00\n",
            "1  1  0.05  0.05\n",
            "2  2  0.10  0.15\n",
            "3  3  0.10  0.25\n",
            "4  4  0.10  0.35\n",
            "5  5  0.15  0.50\n",
            "6  6  0.15  0.65\n",
            "7  7  0.15  0.80\n",
            "8  8  0.10  0.90\n",
            "9  9  0.10  1.00\n"
          ]
        }
      ],
      "source": [
        "# create a dataframe with column x from 1 to 9, column f with values 0.05, 0.1, 0.1, 0.1, 0.15, 0.15, 0.15, 0.1 and 0.1, and column F with the sum of f up to said row\n",
        "df = pd.DataFrame({'x': np.arange(0, 10), 'f': [0.0,0.05, 0.1, 0.1, 0.1, 0.15, 0.15, 0.15, 0.1, 0.1]})\n",
        "df['F'] = df['f'].cumsum()\n",
        "print(df)"
      ]
    },
    {
      "cell_type": "markdown",
      "source": [
        "F instead of P cause continuous probability.\n",
        "\n",
        "0.05 + 0.10 + 0.10 + 0.10 = 0.35\n",
        "- For the first row, 'F' will be 0.0 (since there are no previous values to sum).\n",
        "- For the second row, 'F' will be 0.05 (0.0 + 0.05).\n",
        "- For the third row, 'F' will be 0.15 (0.05 + 0.1)."
      ],
      "metadata": {
        "id": "6TWm5bUGl4fm"
      },
      "id": "6TWm5bUGl4fm"
    },
    {
      "cell_type": "markdown",
      "id": "9f174944",
      "metadata": {
        "id": "9f174944"
      },
      "source": [
        "### Análisis marginal"
      ]
    },
    {
      "cell_type": "code",
      "execution_count": null,
      "id": "082a8409",
      "metadata": {
        "id": "082a8409"
      },
      "outputs": [],
      "source": [
        "h=7\n",
        "l=4\n",
        "a=5"
      ]
    },
    {
      "cell_type": "code",
      "execution_count": null,
      "id": "bee8a73a",
      "metadata": {
        "colab": {
          "base_uri": "https://localhost:8080/"
        },
        "id": "bee8a73a",
        "outputId": "9677fe6e-fc3a-42d4-81e1-0b373c827400"
      },
      "outputs": [
        {
          "output_type": "stream",
          "name": "stdout",
          "text": [
            "1 2.0\n",
            "2 1.8499999999999999\n",
            "3 1.55\n",
            "4 1.25\n",
            "5 0.9500000000000001\n",
            "6 0.5\n",
            "7 0.04999999999999993\n",
            "8 -0.4000000000000001\n",
            "9 -0.7\n"
          ]
        }
      ],
      "source": [
        "# iterate over the range from 1 to 9\n",
        "for x in range(1,10):\n",
        "    #marginal=(1.0-df.loc[df['x']==x,'F'].iloc[0])*(h-a)-df.loc[df['x']<x,'F'].iloc[0]*(a-l)\n",
        "    marginal = (1.0-df.loc[df['x']==x,'F'].iloc[0]+df.loc[df['x']==x,'f'].iloc[0])*(h-a)\n",
        "    marginal -= (df.loc[df['x']==x,'F'].iloc[0]-df.loc[df['x']==x,'f'].iloc[0])*(a-l)\n",
        "    print(x,marginal)"
      ]
    },
    {
      "cell_type": "markdown",
      "source": [
        "- (1.0 - F_x + f_x) * (h - a): This part calculates the marginal value of the \"remaining\" or \"unfilled\" part, which is 1.0 - F_x + f_x. This is then multiplied by the difference between h and a.\n",
        "\n",
        "- (F_x - f_x) * (a - l): This part calculates the marginal value of the \"filled\" part, which is F_x - f_x. This is then multiplied by the difference between a and l"
      ],
      "metadata": {
        "id": "dkP0pIKhoA4G"
      },
      "id": "dkP0pIKhoA4G"
    },
    {
      "cell_type": "markdown",
      "id": "ea646a36",
      "metadata": {
        "id": "ea646a36"
      },
      "source": [
        "### Simulación"
      ]
    },
    {
      "cell_type": "code",
      "execution_count": null,
      "id": "a48af079",
      "metadata": {
        "id": "a48af079"
      },
      "outputs": [],
      "source": [
        "#create a function that returns a random number according to the empirical distribution of dataframe df\n",
        "def random_number(df):\n",
        "    r = np.random.rand()\n",
        "    return df.loc[df['F'] >= r, 'x'].iloc[0]"
      ]
    },
    {
      "cell_type": "markdown",
      "source": [
        "The function will select 'x' values with the following probabilities:\n",
        "- 'x' = 1: 20% (0.2 - 0.0 = 0.2)\n",
        "- 'x' = 2: 30% (0.5 - 0.2 = 0.3)\n",
        "- 'x' = 3: 30% (0.8 - 0.5 = 0.3)\n",
        "- 'x' = 4: 20% (1.0 - 0.8 = 0.2)\n",
        "\n",
        "This means that the function will return 'x' = 1 with a probability of 20%, 'x' = 2 with a probability of 30%, and so on."
      ],
      "metadata": {
        "id": "lRhoMh9Loeys"
      },
      "id": "lRhoMh9Loeys"
    },
    {
      "cell_type": "code",
      "execution_count": null,
      "id": "9a3b7862",
      "metadata": {
        "colab": {
          "base_uri": "https://localhost:8080/"
        },
        "id": "9a3b7862",
        "outputId": "51c21692-50f4-4eaf-9d1d-3bb476eb8487"
      },
      "outputs": [
        {
          "output_type": "stream",
          "name": "stdout",
          "text": [
            "1 2.0\n",
            "2 3.832\n",
            "3 5.427\n",
            "4 6.587\n",
            "5 7.447\n",
            "6 7.764\n",
            "7 7.892\n",
            "8 7.816\n",
            "9 7.038\n"
          ]
        }
      ],
      "source": [
        "for x in range(1,10):# VOY A PROBAR TOSO LOS POSIBLES VALORES DE LA VARIABLE\n",
        "    acc = 0 # CALCULAR ACUMULADO DE INGRESOS\n",
        "    for iters in range(1000): # QUE PASA EN 1000 SIMULACIONES DE UN PERIDO\n",
        "        val = random_number(df) # GENBERO UNA DEMANDA ALEATORIA\n",
        "        if val<= x: # ASI LA DEMANDA ES MENOR QUE LAS UNIDADES QUE COMPRE\n",
        "            acc += h*val+l*(x-val) # VAL SE VENDE A PRECIO ALTO Y EL RESTO A PRECIO BAJO\n",
        "        else:\n",
        "            acc += h*x # SOLO VENDO LAS UNIDADES QUE COMPRE A PRECIO ALTO\n",
        "    acc -= 1000*a*x # LE QUITO LO QUE HE PAGADO POR LAS UNIDADES\n",
        "    print(x,acc/1000) # IMPRIMO EL VALOR MEDIO DE INGRESOS"
      ]
    },
    {
      "cell_type": "markdown",
      "source": [
        "- `h`: the high price\n",
        "- `l`: the low price\n",
        "- `a`: the cost of buying one unit\n",
        "- `x`: the number of units to buy\n",
        "- `val`: the random demand generated in each simulation\n",
        "- `acc`: the total revenue accumulated over all simulations\n",
        "\n",
        "It increases and the decreases at the end."
      ],
      "metadata": {
        "id": "MmF7fz4dpY-D"
      },
      "id": "MmF7fz4dpY-D"
    },
    {
      "cell_type": "markdown",
      "id": "82ab2554",
      "metadata": {
        "id": "82ab2554"
      },
      "source": [
        "### Fórmula cerrada"
      ]
    },
    {
      "cell_type": "code",
      "execution_count": null,
      "id": "8fa286e7",
      "metadata": {
        "id": "8fa286e7"
      },
      "outputs": [],
      "source": [
        "co=a-l\n",
        "cu=h-a"
      ]
    },
    {
      "cell_type": "code",
      "execution_count": null,
      "id": "4fa23388",
      "metadata": {
        "colab": {
          "base_uri": "https://localhost:8080/"
        },
        "id": "4fa23388",
        "outputId": "28582c0d-2d2e-4523-b3ac-856970cb5d31"
      },
      "outputs": [
        {
          "output_type": "stream",
          "name": "stdout",
          "text": [
            "0.6666666666666666\n",
            "7\n"
          ]
        }
      ],
      "source": [
        "p=cu/(co+cu)\n",
        "print(p)\n",
        "#find first row in df such that F>=p\n",
        "print(df.loc[df['F'] >= p, 'x'].iloc[0])"
      ]
    },
    {
      "cell_type": "markdown",
      "source": [
        "- `p = cu / (co + cu)`: This line calculates the optimal stock level as a fraction of the total demand. The formula is based on the concept of the \"critical ratio\" in inventory management.\n",
        "- `cu` is the cost of understocking (i.e., the cost of not having enough units to meet demand).\n",
        "- `co` is the cost of overstocking (i.e., the cost of having too many units that are not sold).\n",
        "- The critical ratio p is the ratio of the cost of understocking to the total cost of understocking and overstocking."
      ],
      "metadata": {
        "id": "e9Ih51cfqDgZ"
      },
      "id": "e9Ih51cfqDgZ"
    }
  ],
  "metadata": {
    "kernelspec": {
      "display_name": "Python 3 (ipykernel)",
      "language": "python",
      "name": "python3"
    },
    "language_info": {
      "codemirror_mode": {
        "name": "ipython",
        "version": 3
      },
      "file_extension": ".py",
      "mimetype": "text/x-python",
      "name": "python",
      "nbconvert_exporter": "python",
      "pygments_lexer": "ipython3",
      "version": "3.11.6"
    },
    "colab": {
      "provenance": []
    }
  },
  "nbformat": 4,
  "nbformat_minor": 5
}