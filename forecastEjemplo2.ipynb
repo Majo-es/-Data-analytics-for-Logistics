{
  "cells": [
    {
      "cell_type": "markdown",
      "metadata": {
        "id": "pD5f6p6wWLc3"
      },
      "source": [
        "# Datos iniciales"
      ]
    },
    {
      "cell_type": "code",
      "execution_count": null,
      "metadata": {
        "id": "NwIgRV819ODF"
      },
      "outputs": [],
      "source": [
        "#librerías\n",
        "import plotly.graph_objs as go\n",
        "# https://www.statsmodels.org/dev/tsa.html#exponential-smoothing\n",
        "from statsmodels.tsa.api import SimpleExpSmoothing # Libreria k usaremos\n",
        "# lo usaremos para explicar cómo funciona internamente el código\n",
        "from scipy.optimize import minimize\n"
      ]
    },
    {
      "cell_type": "code",
      "execution_count": null,
      "metadata": {
        "id": "TegXKXAT8Mt7"
      },
      "outputs": [],
      "source": [
        "#serie que vamos a usar\n",
        "prod = [77, 92, 32, 37, 69, 87, 73, 41, 88, 107, 82, 82, 97, 78, 84, 67, 105, 141, 159, 130, 127, 86, 60, 104, 14, 98, 88, 105, 51, 72, 116, 59, 106, 51, 60, 93, 75, 62, 124, 64, 86, 77, 57, 73, 72, 115, 85, 66, 78, 86, 90, 77, 48, 27, 41, 42, 43, 89, 45, 29, 67, 61, 67, 69, 133, 97, 67, 81, 68, 56, 44, 73, 53, 34, 67, 35, 57, 65, 86, 27, 53, 24, 85, 103, 72, 90, 82, 57, 104, 70, 99, 66, 25, 52, 81, 96, 100, 83, 102, 63, 77, 89, 108, 93, 123]\n"
      ]
    },
    {
      "cell_type": "code",
      "execution_count": null,
      "metadata": {
        "id": "SWE8AJHG9MFz",
        "colab": {
          "base_uri": "https://localhost:8080/",
          "height": 542
        },
        "outputId": "82350dbd-3845-457c-eb05-8e085edfedd2"
      },
      "outputs": [
        {
          "output_type": "display_data",
          "data": {
            "text/html": [
              "<html>\n",
              "<head><meta charset=\"utf-8\" /></head>\n",
              "<body>\n",
              "    <div>            <script src=\"https://cdnjs.cloudflare.com/ajax/libs/mathjax/2.7.5/MathJax.js?config=TeX-AMS-MML_SVG\"></script><script type=\"text/javascript\">if (window.MathJax && window.MathJax.Hub && window.MathJax.Hub.Config) {window.MathJax.Hub.Config({SVG: {font: \"STIX-Web\"}});}</script>                <script type=\"text/javascript\">window.PlotlyConfig = {MathJaxConfig: 'local'};</script>\n",
              "        <script charset=\"utf-8\" src=\"https://cdn.plot.ly/plotly-2.35.2.min.js\"></script>                <div id=\"9cc7ca5c-3e9f-4cab-ae01-9a4cf445b097\" class=\"plotly-graph-div\" style=\"height:525px; width:100%;\"></div>            <script type=\"text/javascript\">                                    window.PLOTLYENV=window.PLOTLYENV || {};                                    if (document.getElementById(\"9cc7ca5c-3e9f-4cab-ae01-9a4cf445b097\")) {                    Plotly.newPlot(                        \"9cc7ca5c-3e9f-4cab-ae01-9a4cf445b097\",                        [{\"mode\":\"lines+markers\",\"name\":\"Producción\",\"x\":[1,2,3,4,5,6,7,8,9,10,11,12,13,14,15,16,17,18,19,20,21,22,23,24,25,26,27,28,29,30,31,32,33,34,35,36,37,38,39,40,41,42,43,44,45,46,47,48,49,50,51,52,53,54,55,56,57,58,59,60,61,62,63,64,65,66,67,68,69,70,71,72,73,74,75,76,77,78,79,80,81,82,83,84,85,86,87,88,89,90,91,92,93,94,95,96,97,98,99,100,101,102,103,104],\"y\":[77,92,32,37,69,87,73,41,88,107,82,82,97,78,84,67,105,141,159,130,127,86,60,104,14,98,88,105,51,72,116,59,106,51,60,93,75,62,124,64,86,77,57,73,72,115,85,66,78,86,90,77,48,27,41,42,43,89,45,29,67,61,67,69,133,97,67,81,68,56,44,73,53,34,67,35,57,65,86,27,53,24,85,103,72,90,82,57,104,70,99,66,25,52,81,96,100,83,102,63,77,89,108,93,123],\"type\":\"scatter\"}],                        {\"template\":{\"data\":{\"histogram2dcontour\":[{\"type\":\"histogram2dcontour\",\"colorbar\":{\"outlinewidth\":0,\"ticks\":\"\"},\"colorscale\":[[0.0,\"#0d0887\"],[0.1111111111111111,\"#46039f\"],[0.2222222222222222,\"#7201a8\"],[0.3333333333333333,\"#9c179e\"],[0.4444444444444444,\"#bd3786\"],[0.5555555555555556,\"#d8576b\"],[0.6666666666666666,\"#ed7953\"],[0.7777777777777778,\"#fb9f3a\"],[0.8888888888888888,\"#fdca26\"],[1.0,\"#f0f921\"]]}],\"choropleth\":[{\"type\":\"choropleth\",\"colorbar\":{\"outlinewidth\":0,\"ticks\":\"\"}}],\"histogram2d\":[{\"type\":\"histogram2d\",\"colorbar\":{\"outlinewidth\":0,\"ticks\":\"\"},\"colorscale\":[[0.0,\"#0d0887\"],[0.1111111111111111,\"#46039f\"],[0.2222222222222222,\"#7201a8\"],[0.3333333333333333,\"#9c179e\"],[0.4444444444444444,\"#bd3786\"],[0.5555555555555556,\"#d8576b\"],[0.6666666666666666,\"#ed7953\"],[0.7777777777777778,\"#fb9f3a\"],[0.8888888888888888,\"#fdca26\"],[1.0,\"#f0f921\"]]}],\"heatmap\":[{\"type\":\"heatmap\",\"colorbar\":{\"outlinewidth\":0,\"ticks\":\"\"},\"colorscale\":[[0.0,\"#0d0887\"],[0.1111111111111111,\"#46039f\"],[0.2222222222222222,\"#7201a8\"],[0.3333333333333333,\"#9c179e\"],[0.4444444444444444,\"#bd3786\"],[0.5555555555555556,\"#d8576b\"],[0.6666666666666666,\"#ed7953\"],[0.7777777777777778,\"#fb9f3a\"],[0.8888888888888888,\"#fdca26\"],[1.0,\"#f0f921\"]]}],\"heatmapgl\":[{\"type\":\"heatmapgl\",\"colorbar\":{\"outlinewidth\":0,\"ticks\":\"\"},\"colorscale\":[[0.0,\"#0d0887\"],[0.1111111111111111,\"#46039f\"],[0.2222222222222222,\"#7201a8\"],[0.3333333333333333,\"#9c179e\"],[0.4444444444444444,\"#bd3786\"],[0.5555555555555556,\"#d8576b\"],[0.6666666666666666,\"#ed7953\"],[0.7777777777777778,\"#fb9f3a\"],[0.8888888888888888,\"#fdca26\"],[1.0,\"#f0f921\"]]}],\"contourcarpet\":[{\"type\":\"contourcarpet\",\"colorbar\":{\"outlinewidth\":0,\"ticks\":\"\"}}],\"contour\":[{\"type\":\"contour\",\"colorbar\":{\"outlinewidth\":0,\"ticks\":\"\"},\"colorscale\":[[0.0,\"#0d0887\"],[0.1111111111111111,\"#46039f\"],[0.2222222222222222,\"#7201a8\"],[0.3333333333333333,\"#9c179e\"],[0.4444444444444444,\"#bd3786\"],[0.5555555555555556,\"#d8576b\"],[0.6666666666666666,\"#ed7953\"],[0.7777777777777778,\"#fb9f3a\"],[0.8888888888888888,\"#fdca26\"],[1.0,\"#f0f921\"]]}],\"surface\":[{\"type\":\"surface\",\"colorbar\":{\"outlinewidth\":0,\"ticks\":\"\"},\"colorscale\":[[0.0,\"#0d0887\"],[0.1111111111111111,\"#46039f\"],[0.2222222222222222,\"#7201a8\"],[0.3333333333333333,\"#9c179e\"],[0.4444444444444444,\"#bd3786\"],[0.5555555555555556,\"#d8576b\"],[0.6666666666666666,\"#ed7953\"],[0.7777777777777778,\"#fb9f3a\"],[0.8888888888888888,\"#fdca26\"],[1.0,\"#f0f921\"]]}],\"mesh3d\":[{\"type\":\"mesh3d\",\"colorbar\":{\"outlinewidth\":0,\"ticks\":\"\"}}],\"scatter\":[{\"fillpattern\":{\"fillmode\":\"overlay\",\"size\":10,\"solidity\":0.2},\"type\":\"scatter\"}],\"parcoords\":[{\"type\":\"parcoords\",\"line\":{\"colorbar\":{\"outlinewidth\":0,\"ticks\":\"\"}}}],\"scatterpolargl\":[{\"type\":\"scatterpolargl\",\"marker\":{\"colorbar\":{\"outlinewidth\":0,\"ticks\":\"\"}}}],\"bar\":[{\"error_x\":{\"color\":\"#2a3f5f\"},\"error_y\":{\"color\":\"#2a3f5f\"},\"marker\":{\"line\":{\"color\":\"#E5ECF6\",\"width\":0.5},\"pattern\":{\"fillmode\":\"overlay\",\"size\":10,\"solidity\":0.2}},\"type\":\"bar\"}],\"scattergeo\":[{\"type\":\"scattergeo\",\"marker\":{\"colorbar\":{\"outlinewidth\":0,\"ticks\":\"\"}}}],\"scatterpolar\":[{\"type\":\"scatterpolar\",\"marker\":{\"colorbar\":{\"outlinewidth\":0,\"ticks\":\"\"}}}],\"histogram\":[{\"marker\":{\"pattern\":{\"fillmode\":\"overlay\",\"size\":10,\"solidity\":0.2}},\"type\":\"histogram\"}],\"scattergl\":[{\"type\":\"scattergl\",\"marker\":{\"colorbar\":{\"outlinewidth\":0,\"ticks\":\"\"}}}],\"scatter3d\":[{\"type\":\"scatter3d\",\"line\":{\"colorbar\":{\"outlinewidth\":0,\"ticks\":\"\"}},\"marker\":{\"colorbar\":{\"outlinewidth\":0,\"ticks\":\"\"}}}],\"scattermapbox\":[{\"type\":\"scattermapbox\",\"marker\":{\"colorbar\":{\"outlinewidth\":0,\"ticks\":\"\"}}}],\"scatterternary\":[{\"type\":\"scatterternary\",\"marker\":{\"colorbar\":{\"outlinewidth\":0,\"ticks\":\"\"}}}],\"scattercarpet\":[{\"type\":\"scattercarpet\",\"marker\":{\"colorbar\":{\"outlinewidth\":0,\"ticks\":\"\"}}}],\"carpet\":[{\"aaxis\":{\"endlinecolor\":\"#2a3f5f\",\"gridcolor\":\"white\",\"linecolor\":\"white\",\"minorgridcolor\":\"white\",\"startlinecolor\":\"#2a3f5f\"},\"baxis\":{\"endlinecolor\":\"#2a3f5f\",\"gridcolor\":\"white\",\"linecolor\":\"white\",\"minorgridcolor\":\"white\",\"startlinecolor\":\"#2a3f5f\"},\"type\":\"carpet\"}],\"table\":[{\"cells\":{\"fill\":{\"color\":\"#EBF0F8\"},\"line\":{\"color\":\"white\"}},\"header\":{\"fill\":{\"color\":\"#C8D4E3\"},\"line\":{\"color\":\"white\"}},\"type\":\"table\"}],\"barpolar\":[{\"marker\":{\"line\":{\"color\":\"#E5ECF6\",\"width\":0.5},\"pattern\":{\"fillmode\":\"overlay\",\"size\":10,\"solidity\":0.2}},\"type\":\"barpolar\"}],\"pie\":[{\"automargin\":true,\"type\":\"pie\"}]},\"layout\":{\"autotypenumbers\":\"strict\",\"colorway\":[\"#636efa\",\"#EF553B\",\"#00cc96\",\"#ab63fa\",\"#FFA15A\",\"#19d3f3\",\"#FF6692\",\"#B6E880\",\"#FF97FF\",\"#FECB52\"],\"font\":{\"color\":\"#2a3f5f\"},\"hovermode\":\"closest\",\"hoverlabel\":{\"align\":\"left\"},\"paper_bgcolor\":\"white\",\"plot_bgcolor\":\"#E5ECF6\",\"polar\":{\"bgcolor\":\"#E5ECF6\",\"angularaxis\":{\"gridcolor\":\"white\",\"linecolor\":\"white\",\"ticks\":\"\"},\"radialaxis\":{\"gridcolor\":\"white\",\"linecolor\":\"white\",\"ticks\":\"\"}},\"ternary\":{\"bgcolor\":\"#E5ECF6\",\"aaxis\":{\"gridcolor\":\"white\",\"linecolor\":\"white\",\"ticks\":\"\"},\"baxis\":{\"gridcolor\":\"white\",\"linecolor\":\"white\",\"ticks\":\"\"},\"caxis\":{\"gridcolor\":\"white\",\"linecolor\":\"white\",\"ticks\":\"\"}},\"coloraxis\":{\"colorbar\":{\"outlinewidth\":0,\"ticks\":\"\"}},\"colorscale\":{\"sequential\":[[0.0,\"#0d0887\"],[0.1111111111111111,\"#46039f\"],[0.2222222222222222,\"#7201a8\"],[0.3333333333333333,\"#9c179e\"],[0.4444444444444444,\"#bd3786\"],[0.5555555555555556,\"#d8576b\"],[0.6666666666666666,\"#ed7953\"],[0.7777777777777778,\"#fb9f3a\"],[0.8888888888888888,\"#fdca26\"],[1.0,\"#f0f921\"]],\"sequentialminus\":[[0.0,\"#0d0887\"],[0.1111111111111111,\"#46039f\"],[0.2222222222222222,\"#7201a8\"],[0.3333333333333333,\"#9c179e\"],[0.4444444444444444,\"#bd3786\"],[0.5555555555555556,\"#d8576b\"],[0.6666666666666666,\"#ed7953\"],[0.7777777777777778,\"#fb9f3a\"],[0.8888888888888888,\"#fdca26\"],[1.0,\"#f0f921\"]],\"diverging\":[[0,\"#8e0152\"],[0.1,\"#c51b7d\"],[0.2,\"#de77ae\"],[0.3,\"#f1b6da\"],[0.4,\"#fde0ef\"],[0.5,\"#f7f7f7\"],[0.6,\"#e6f5d0\"],[0.7,\"#b8e186\"],[0.8,\"#7fbc41\"],[0.9,\"#4d9221\"],[1,\"#276419\"]]},\"xaxis\":{\"gridcolor\":\"white\",\"linecolor\":\"white\",\"ticks\":\"\",\"title\":{\"standoff\":15},\"zerolinecolor\":\"white\",\"automargin\":true,\"zerolinewidth\":2},\"yaxis\":{\"gridcolor\":\"white\",\"linecolor\":\"white\",\"ticks\":\"\",\"title\":{\"standoff\":15},\"zerolinecolor\":\"white\",\"automargin\":true,\"zerolinewidth\":2},\"scene\":{\"xaxis\":{\"backgroundcolor\":\"#E5ECF6\",\"gridcolor\":\"white\",\"linecolor\":\"white\",\"showbackground\":true,\"ticks\":\"\",\"zerolinecolor\":\"white\",\"gridwidth\":2},\"yaxis\":{\"backgroundcolor\":\"#E5ECF6\",\"gridcolor\":\"white\",\"linecolor\":\"white\",\"showbackground\":true,\"ticks\":\"\",\"zerolinecolor\":\"white\",\"gridwidth\":2},\"zaxis\":{\"backgroundcolor\":\"#E5ECF6\",\"gridcolor\":\"white\",\"linecolor\":\"white\",\"showbackground\":true,\"ticks\":\"\",\"zerolinecolor\":\"white\",\"gridwidth\":2}},\"shapedefaults\":{\"line\":{\"color\":\"#2a3f5f\"}},\"annotationdefaults\":{\"arrowcolor\":\"#2a3f5f\",\"arrowhead\":0,\"arrowwidth\":1},\"geo\":{\"bgcolor\":\"white\",\"landcolor\":\"#E5ECF6\",\"subunitcolor\":\"white\",\"showland\":true,\"showlakes\":true,\"lakecolor\":\"white\"},\"title\":{\"x\":0.05},\"mapbox\":{\"style\":\"light\"}}},\"title\":{\"text\":\"Millones de barriles de petróleo\"},\"xaxis\":{\"title\":{\"text\":\"Año\"}},\"yaxis\":{\"title\":{\"text\":\"Producción\"}}},                        {\"responsive\": true}                    ).then(function(){\n",
              "                            \n",
              "var gd = document.getElementById('9cc7ca5c-3e9f-4cab-ae01-9a4cf445b097');\n",
              "var x = new MutationObserver(function (mutations, observer) {{\n",
              "        var display = window.getComputedStyle(gd).display;\n",
              "        if (!display || display === 'none') {{\n",
              "            console.log([gd, 'removed!']);\n",
              "            Plotly.purge(gd);\n",
              "            observer.disconnect();\n",
              "        }}\n",
              "}});\n",
              "\n",
              "// Listen for the removal of the full notebook cells\n",
              "var notebookContainer = gd.closest('#notebook-container');\n",
              "if (notebookContainer) {{\n",
              "    x.observe(notebookContainer, {childList: true});\n",
              "}}\n",
              "\n",
              "// Listen for the clearing of the current output cell\n",
              "var outputEl = gd.closest('.output');\n",
              "if (outputEl) {{\n",
              "    x.observe(outputEl, {childList: true});\n",
              "}}\n",
              "\n",
              "                        })                };                            </script>        </div>\n",
              "</body>\n",
              "</html>"
            ]
          },
          "metadata": {}
        }
      ],
      "source": [
        "#dibujamos la serie\n",
        "fig = go.Figure()\n",
        "fig.add_trace(go.Scatter(x=list(range(1,len(prod))),\n",
        "                         y=prod,\n",
        "                         mode='lines+markers',\n",
        "                         name='Producción'))\n",
        "fig.update_layout(title='Millones de barriles de petróleo',\n",
        "                  xaxis_title='Año',\n",
        "                  yaxis_title='Producción')\n",
        "fig.show()"
      ]
    },
    {
      "cell_type": "markdown",
      "metadata": {
        "id": "Z1xq_RdDKYxl"
      },
      "source": [
        "# Alisado simple"
      ]
    },
    {
      "cell_type": "code",
      "execution_count": null,
      "metadata": {
        "colab": {
          "base_uri": "https://localhost:8080/"
        },
        "id": "BgQ8Vfd7UCX4",
        "outputId": "83789a44-35c5-4d34-c107-58936456d932"
      },
      "outputs": [
        {
          "output_type": "stream",
          "name": "stdout",
          "text": [
            "estimador de nivel:  94.84926783546041\n"
          ]
        }
      ],
      "source": [
        "x=prod.copy()\n",
        "alpha=0.2\n",
        "inicial=77\n",
        "# Hagamos un alisado exponencial manualmente\n",
        "xPronostico=[inicial,inicial] #iniciamos con valor \"inicial\"\n",
        "for i in range(1,len(x)):\n",
        "    valor=alpha*x[i]+(1.0-alpha)*xPronostico[-1] #aplicamos la fórmula :: alpha * nueva + (1-alpha) * vieja\n",
        "    xPronostico.append(valor) # guardamos el valor\n",
        "#print(xPronostico) #imprimamos todo\n",
        "#si queremos ver el valor específico:\n",
        "print(\"estimador de nivel: \",xPronostico[-1])"
      ]
    },
    {
      "cell_type": "markdown",
      "source": [
        "Valor inicial de forecast: 77\n",
        "\n",
        "F t + 1 ~ 94.84"
      ],
      "metadata": {
        "id": "FxeMsRjm-mPZ"
      }
    },
    {
      "cell_type": "markdown",
      "metadata": {
        "id": "lp6LzJjMUCX4"
      },
      "source": [
        "# Alisado simple automático"
      ]
    },
    {
      "cell_type": "code",
      "execution_count": null,
      "metadata": {
        "id": "80o9Iuui-Ktv",
        "colab": {
          "base_uri": "https://localhost:8080/"
        },
        "outputId": "6a16eec5-fd84-45f7-a370-efbab5b47482"
      },
      "outputs": [
        {
          "output_type": "stream",
          "name": "stdout",
          "text": [
            "                       SimpleExpSmoothing Model Results                       \n",
            "==============================================================================\n",
            "Dep. Variable:                  endog   No. Observations:                  105\n",
            "Model:             SimpleExpSmoothing   SSE                          73657.146\n",
            "Optimized:                      False   AIC                            692.088\n",
            "Trend:                           None   BIC                            697.396\n",
            "Seasonal:                        None   AICC                           692.488\n",
            "Seasonal Periods:                None   Date:                 Tue, 04 Mar 2025\n",
            "Box-Cox:                        False   Time:                         22:54:34\n",
            "Box-Cox Coeff.:                  None                                         \n",
            "==============================================================================\n",
            "                       coeff                 code              optimized      \n",
            "------------------------------------------------------------------------------\n",
            "smoothing_level            0.2000000                alpha                False\n",
            "initial_level              77.000000                  l.0                False\n",
            "------------------------------------------------------------------------------\n",
            "valores estimados: [94.84926784 94.84926784 94.84926784]\n"
          ]
        }
      ],
      "source": [
        "# Modelo simple con alpha definida por nosotros (0,2)\n",
        "modelo1 = SimpleExpSmoothing(prod).fit(smoothing_level=0.2, optimized=False)\n",
        "# Mostramos la información\n",
        "print(modelo1.summary())\n",
        "print(\"valores estimados:\",modelo1.forecast(3))"
      ]
    },
    {
      "cell_type": "markdown",
      "source": [
        "valor inicial sigue siendo 77\n"
      ],
      "metadata": {
        "id": "pjsX2P-l_W9z"
      }
    },
    {
      "cell_type": "code",
      "execution_count": null,
      "metadata": {
        "id": "CaAJsnuQ-mQ-",
        "colab": {
          "base_uri": "https://localhost:8080/"
        },
        "outputId": "981b0c03-238c-4961-d4a1-dbdfd4d211f3"
      },
      "outputs": [
        {
          "output_type": "stream",
          "name": "stdout",
          "text": [
            "                       SimpleExpSmoothing Model Results                       \n",
            "==============================================================================\n",
            "Dep. Variable:                  endog   No. Observations:                  105\n",
            "Model:             SimpleExpSmoothing   SSE                          73499.323\n",
            "Optimized:                       True   AIC                            691.862\n",
            "Trend:                           None   BIC                            697.170\n",
            "Seasonal:                        None   AICC                           692.262\n",
            "Seasonal Periods:                None   Date:                 Tue, 04 Mar 2025\n",
            "Box-Cox:                        False   Time:                         22:54:36\n",
            "Box-Cox Coeff.:                  None                                         \n",
            "==============================================================================\n",
            "                       coeff                 code              optimized      \n",
            "------------------------------------------------------------------------------\n",
            "smoothing_level            0.2231772                alpha                 True\n",
            "initial_level              69.826917                  l.0                 True\n",
            "------------------------------------------------------------------------------\n",
            "valores futuros: [96.36072573 96.36072573 96.36072573]\n"
          ]
        }
      ],
      "source": [
        "# Dejamos que el parámetro lo decida el código\n",
        "modelo2 = SimpleExpSmoothing(prod,initialization_method=\"estimated\").fit()\n",
        "# podemos decidir qué nivel escoger (generalmente no realizado por el código)\n",
        "#modelo2 = SimpleExpSmoothing(prod, initialization_method=\"known\", initial_level=77).fit()\n",
        "\n",
        "print(modelo2.summary())\n",
        "print(\"valores futuros:\",modelo2.forecast(3))\n",
        "#print(\"valores anteriores: \",modelo2.fittedvalues)"
      ]
    },
    {
      "cell_type": "code",
      "execution_count": null,
      "metadata": {
        "id": "IwnVNdiDBFS7",
        "colab": {
          "base_uri": "https://localhost:8080/",
          "height": 542
        },
        "outputId": "b4fa84ea-8781-4728-836d-6fd813290fb1"
      },
      "outputs": [
        {
          "output_type": "display_data",
          "data": {
            "text/html": [
              "<html>\n",
              "<head><meta charset=\"utf-8\" /></head>\n",
              "<body>\n",
              "    <div>            <script src=\"https://cdnjs.cloudflare.com/ajax/libs/mathjax/2.7.5/MathJax.js?config=TeX-AMS-MML_SVG\"></script><script type=\"text/javascript\">if (window.MathJax && window.MathJax.Hub && window.MathJax.Hub.Config) {window.MathJax.Hub.Config({SVG: {font: \"STIX-Web\"}});}</script>                <script type=\"text/javascript\">window.PlotlyConfig = {MathJaxConfig: 'local'};</script>\n",
              "        <script charset=\"utf-8\" src=\"https://cdn.plot.ly/plotly-2.35.2.min.js\"></script>                <div id=\"ed19a42f-8faf-4351-bca7-82d7ae8b34c2\" class=\"plotly-graph-div\" style=\"height:525px; width:100%;\"></div>            <script type=\"text/javascript\">                                    window.PLOTLYENV=window.PLOTLYENV || {};                                    if (document.getElementById(\"ed19a42f-8faf-4351-bca7-82d7ae8b34c2\")) {                    Plotly.newPlot(                        \"ed19a42f-8faf-4351-bca7-82d7ae8b34c2\",                        [{\"line\":{\"color\":\"black\"},\"mode\":\"lines+markers\",\"name\":\"Serie original\",\"x\":[1,2,3,4,5,6,7,8,9,10,11,12,13,14,15,16,17,18,19,20,21,22,23,24,25,26,27,28,29,30,31,32,33,34,35,36,37,38,39,40,41,42,43,44,45,46,47,48,49,50,51,52,53,54,55,56,57,58,59,60,61,62,63,64,65,66,67,68,69,70,71,72,73,74,75,76,77,78,79,80,81,82,83,84,85,86,87,88,89,90,91,92,93,94,95,96,97,98,99,100,101,102,103,104],\"y\":[77,92,32,37,69,87,73,41,88,107,82,82,97,78,84,67,105,141,159,130,127,86,60,104,14,98,88,105,51,72,116,59,106,51,60,93,75,62,124,64,86,77,57,73,72,115,85,66,78,86,90,77,48,27,41,42,43,89,45,29,67,61,67,69,133,97,67,81,68,56,44,73,53,34,67,35,57,65,86,27,53,24,85,103,72,90,82,57,104,70,99,66,25,52,81,96,100,83,102,63,77,89,108,93,123],\"type\":\"scatter\"},{\"line\":{\"color\":\"red\"},\"mode\":\"lines+markers\",\"name\":\"Modelo 1\",\"x\":[1,2,3,4,5,6,7,8,9,10,11,12,13,14,15,16,17,18,19,20,21,22,23,24,25,26,27,28,29,30,31,32,33,34,35,36,37,38,39,40,41,42,43,44,45,46,47,48,49,50,51,52,53,54,55,56,57,58,59,60,61,62,63,64,65,66,67,68,69,70,71,72,73,74,75,76,77,78,79,80,81,82,83,84,85,86,87,88,89,90,91,92,93,94,95,96,97,98,99,100,101,102,103,104],\"y\":[77.0,77.0,80.0,70.4,63.720000000000006,64.77600000000001,69.22080000000001,69.97664,64.181312,68.9450496,76.55603968000001,77.64483174400002,78.51586539520002,82.21269231616003,81.37015385292804,81.89612308234243,78.91689846587396,84.13351877269918,95.50681501815934,108.20545201452748,112.56436161162199,115.4514892892976,109.56119143143809,99.64895314515047,100.51916251612037,83.2153300128963,86.17226401031704,86.53781120825363,90.2302489666029,82.38419917328233,80.30735933862587,87.4458874709007,81.75670997672056,86.60536798137645,79.48429438510117,75.58743550808094,79.06994840646476,78.25595872517181,75.00476698013745,84.80381358410996,80.64305086728797,81.71444069383038,80.77155255506432,76.01724204405146,75.41379363524118,74.73103490819295,82.78482792655436,83.2278623412435,79.7822898729948,79.42583189839584,80.74066551871668,82.59253241497335,81.47402593197869,74.77922074558296,65.22337659646638,60.37870127717311,56.70296102173849,53.9623688173908,60.96989505391264,57.77591604313011,52.02073283450409,55.01658626760327,56.21326901408263,58.370615211266106,60.49649216901288,74.99719373521032,79.39775498816826,76.91820399053461,77.73456319242769,75.78765055394214,71.83012044315372,66.26409635452298,67.61127708361838,64.6890216668947,58.551217333515766,60.24097386681262,55.1927790934501,55.55422327476008,57.44337861980807,63.154702895846455,55.92376231667716,55.339009853341736,49.07120788267339,56.256966306138715,65.60557304491098,66.88445843592879,71.50756674874305,73.60605339899445,70.28484271919557,77.02787417535646,75.62229934028517,80.29783947222813,77.43827157778252,66.95061726222602,63.960493809780814,67.36839504782465,73.09471603825972,78.47577283060778,79.38061826448623,83.90449461158899,79.7235956892712,79.17887655141698,81.14310124113358,86.51448099290687,87.81158479432551],\"type\":\"scatter\"},{\"line\":{\"color\":\"blue\"},\"mode\":\"lines+markers\",\"name\":\"Modelo 2\",\"x\":[1,2,3,4,5,6,7,8,9,10,11,12,13,14,15,16,17,18,19,20,21,22,23,24,25,26,27,28,29,30,31,32,33,34,35,36,37,38,39,40,41,42,43,44,45,46,47,48,49,50,51,52,53,54,55,56,57,58,59,60,61,62,63,64,65,66,67,68,69,70,71,72,73,74,75,76,77,78,79,80,81,82,83,84,85,86,87,88,89,90,91,92,93,94,95,96,97,98,99,100,101,102,103,104],\"y\":[69.8269173966074,71.4277856191084,76.01903405297857,66.19499093276215,59.67933569433523,61.75949510759516,67.39259937200461,68.64404313370677,62.47452402440952,68.17122732658662,76.83692263897348,77.98920359467758,78.88432175617277,82.92732742515526,81.82766047122138,82.31247704345209,78.89508186455859,84.72110342386046,97.28126787582858,111.05547939040221,115.28346374681777,117.89832706327105,110.77934893769047,99.44655792323995,100.46278220598228,81.1662638029853,84.92316928334603,85.60984763248098,89.93728682019264,81.24737362842592,79.183571020557,87.40015717715305,81.0618906810395,86.62750715938567,78.67626120114001,74.50814621834407,78.63510567649766,77.82383310587568,74.29231493189357,85.38593504467232,80.6130827419128,81.81531965071898,80.74065027407264,75.44227930769097,74.89721834153046,74.25062537264293,83.34495517958973,83.71432338658022,79.76089095583276,79.3679003086668,80.8480334998408,82.8905434155316,81.57590864989722,74.08253262578798,63.57478658647116,58.53660976986359,54.84601612244711,52.202255856157834,60.41467198416089,56.97446922836821,50.73120656081631,54.36202971945443,55.843473092071605,58.333355111823174,60.71390665239917,76.84651186095822,81.34431016026733,78.14298771928365,78.78060761359949,76.3746221953218,71.8274718247785,65.61701562066892,67.26472912594801,64.08116735440028,57.36773777663156,59.51743872903581,54.04570631933715,54.705037200466535,57.00263778711087,63.474186808588804,55.33398128860513,54.81308996705911,47.93631197735641,56.20808070564048,66.65096848623615,67.84475016212136,72.78929595757276,74.84491475128489,70.86233731030293,78.25790684449498,76.414930625948,81.45540232591145,78.00610948801527,66.17635637215972,63.01251738105336,67.0269127142176,73.4930441263416,79.40879132731575,80.21026708918014,85.07323785396929,80.14699526038575,79.44465778746579,81.5771919501051,87.474159278533,88.70740073171446],\"type\":\"scatter\"},{\"line\":{\"color\":\"red\"},\"mode\":\"lines+markers\",\"name\":\"Forecast modelo 1\",\"x\":[106,107,108],\"y\":[94.84926783546041,94.84926783546041,94.84926783546041],\"type\":\"scatter\"},{\"line\":{\"color\":\"blue\"},\"mode\":\"lines+markers\",\"name\":\"Forecast modelo 2\",\"x\":[106,107,108],\"y\":[96.3607257344957,96.3607257344957,96.3607257344957],\"type\":\"scatter\"}],                        {\"template\":{\"data\":{\"histogram2dcontour\":[{\"type\":\"histogram2dcontour\",\"colorbar\":{\"outlinewidth\":0,\"ticks\":\"\"},\"colorscale\":[[0.0,\"#0d0887\"],[0.1111111111111111,\"#46039f\"],[0.2222222222222222,\"#7201a8\"],[0.3333333333333333,\"#9c179e\"],[0.4444444444444444,\"#bd3786\"],[0.5555555555555556,\"#d8576b\"],[0.6666666666666666,\"#ed7953\"],[0.7777777777777778,\"#fb9f3a\"],[0.8888888888888888,\"#fdca26\"],[1.0,\"#f0f921\"]]}],\"choropleth\":[{\"type\":\"choropleth\",\"colorbar\":{\"outlinewidth\":0,\"ticks\":\"\"}}],\"histogram2d\":[{\"type\":\"histogram2d\",\"colorbar\":{\"outlinewidth\":0,\"ticks\":\"\"},\"colorscale\":[[0.0,\"#0d0887\"],[0.1111111111111111,\"#46039f\"],[0.2222222222222222,\"#7201a8\"],[0.3333333333333333,\"#9c179e\"],[0.4444444444444444,\"#bd3786\"],[0.5555555555555556,\"#d8576b\"],[0.6666666666666666,\"#ed7953\"],[0.7777777777777778,\"#fb9f3a\"],[0.8888888888888888,\"#fdca26\"],[1.0,\"#f0f921\"]]}],\"heatmap\":[{\"type\":\"heatmap\",\"colorbar\":{\"outlinewidth\":0,\"ticks\":\"\"},\"colorscale\":[[0.0,\"#0d0887\"],[0.1111111111111111,\"#46039f\"],[0.2222222222222222,\"#7201a8\"],[0.3333333333333333,\"#9c179e\"],[0.4444444444444444,\"#bd3786\"],[0.5555555555555556,\"#d8576b\"],[0.6666666666666666,\"#ed7953\"],[0.7777777777777778,\"#fb9f3a\"],[0.8888888888888888,\"#fdca26\"],[1.0,\"#f0f921\"]]}],\"heatmapgl\":[{\"type\":\"heatmapgl\",\"colorbar\":{\"outlinewidth\":0,\"ticks\":\"\"},\"colorscale\":[[0.0,\"#0d0887\"],[0.1111111111111111,\"#46039f\"],[0.2222222222222222,\"#7201a8\"],[0.3333333333333333,\"#9c179e\"],[0.4444444444444444,\"#bd3786\"],[0.5555555555555556,\"#d8576b\"],[0.6666666666666666,\"#ed7953\"],[0.7777777777777778,\"#fb9f3a\"],[0.8888888888888888,\"#fdca26\"],[1.0,\"#f0f921\"]]}],\"contourcarpet\":[{\"type\":\"contourcarpet\",\"colorbar\":{\"outlinewidth\":0,\"ticks\":\"\"}}],\"contour\":[{\"type\":\"contour\",\"colorbar\":{\"outlinewidth\":0,\"ticks\":\"\"},\"colorscale\":[[0.0,\"#0d0887\"],[0.1111111111111111,\"#46039f\"],[0.2222222222222222,\"#7201a8\"],[0.3333333333333333,\"#9c179e\"],[0.4444444444444444,\"#bd3786\"],[0.5555555555555556,\"#d8576b\"],[0.6666666666666666,\"#ed7953\"],[0.7777777777777778,\"#fb9f3a\"],[0.8888888888888888,\"#fdca26\"],[1.0,\"#f0f921\"]]}],\"surface\":[{\"type\":\"surface\",\"colorbar\":{\"outlinewidth\":0,\"ticks\":\"\"},\"colorscale\":[[0.0,\"#0d0887\"],[0.1111111111111111,\"#46039f\"],[0.2222222222222222,\"#7201a8\"],[0.3333333333333333,\"#9c179e\"],[0.4444444444444444,\"#bd3786\"],[0.5555555555555556,\"#d8576b\"],[0.6666666666666666,\"#ed7953\"],[0.7777777777777778,\"#fb9f3a\"],[0.8888888888888888,\"#fdca26\"],[1.0,\"#f0f921\"]]}],\"mesh3d\":[{\"type\":\"mesh3d\",\"colorbar\":{\"outlinewidth\":0,\"ticks\":\"\"}}],\"scatter\":[{\"fillpattern\":{\"fillmode\":\"overlay\",\"size\":10,\"solidity\":0.2},\"type\":\"scatter\"}],\"parcoords\":[{\"type\":\"parcoords\",\"line\":{\"colorbar\":{\"outlinewidth\":0,\"ticks\":\"\"}}}],\"scatterpolargl\":[{\"type\":\"scatterpolargl\",\"marker\":{\"colorbar\":{\"outlinewidth\":0,\"ticks\":\"\"}}}],\"bar\":[{\"error_x\":{\"color\":\"#2a3f5f\"},\"error_y\":{\"color\":\"#2a3f5f\"},\"marker\":{\"line\":{\"color\":\"#E5ECF6\",\"width\":0.5},\"pattern\":{\"fillmode\":\"overlay\",\"size\":10,\"solidity\":0.2}},\"type\":\"bar\"}],\"scattergeo\":[{\"type\":\"scattergeo\",\"marker\":{\"colorbar\":{\"outlinewidth\":0,\"ticks\":\"\"}}}],\"scatterpolar\":[{\"type\":\"scatterpolar\",\"marker\":{\"colorbar\":{\"outlinewidth\":0,\"ticks\":\"\"}}}],\"histogram\":[{\"marker\":{\"pattern\":{\"fillmode\":\"overlay\",\"size\":10,\"solidity\":0.2}},\"type\":\"histogram\"}],\"scattergl\":[{\"type\":\"scattergl\",\"marker\":{\"colorbar\":{\"outlinewidth\":0,\"ticks\":\"\"}}}],\"scatter3d\":[{\"type\":\"scatter3d\",\"line\":{\"colorbar\":{\"outlinewidth\":0,\"ticks\":\"\"}},\"marker\":{\"colorbar\":{\"outlinewidth\":0,\"ticks\":\"\"}}}],\"scattermapbox\":[{\"type\":\"scattermapbox\",\"marker\":{\"colorbar\":{\"outlinewidth\":0,\"ticks\":\"\"}}}],\"scatterternary\":[{\"type\":\"scatterternary\",\"marker\":{\"colorbar\":{\"outlinewidth\":0,\"ticks\":\"\"}}}],\"scattercarpet\":[{\"type\":\"scattercarpet\",\"marker\":{\"colorbar\":{\"outlinewidth\":0,\"ticks\":\"\"}}}],\"carpet\":[{\"aaxis\":{\"endlinecolor\":\"#2a3f5f\",\"gridcolor\":\"white\",\"linecolor\":\"white\",\"minorgridcolor\":\"white\",\"startlinecolor\":\"#2a3f5f\"},\"baxis\":{\"endlinecolor\":\"#2a3f5f\",\"gridcolor\":\"white\",\"linecolor\":\"white\",\"minorgridcolor\":\"white\",\"startlinecolor\":\"#2a3f5f\"},\"type\":\"carpet\"}],\"table\":[{\"cells\":{\"fill\":{\"color\":\"#EBF0F8\"},\"line\":{\"color\":\"white\"}},\"header\":{\"fill\":{\"color\":\"#C8D4E3\"},\"line\":{\"color\":\"white\"}},\"type\":\"table\"}],\"barpolar\":[{\"marker\":{\"line\":{\"color\":\"#E5ECF6\",\"width\":0.5},\"pattern\":{\"fillmode\":\"overlay\",\"size\":10,\"solidity\":0.2}},\"type\":\"barpolar\"}],\"pie\":[{\"automargin\":true,\"type\":\"pie\"}]},\"layout\":{\"autotypenumbers\":\"strict\",\"colorway\":[\"#636efa\",\"#EF553B\",\"#00cc96\",\"#ab63fa\",\"#FFA15A\",\"#19d3f3\",\"#FF6692\",\"#B6E880\",\"#FF97FF\",\"#FECB52\"],\"font\":{\"color\":\"#2a3f5f\"},\"hovermode\":\"closest\",\"hoverlabel\":{\"align\":\"left\"},\"paper_bgcolor\":\"white\",\"plot_bgcolor\":\"#E5ECF6\",\"polar\":{\"bgcolor\":\"#E5ECF6\",\"angularaxis\":{\"gridcolor\":\"white\",\"linecolor\":\"white\",\"ticks\":\"\"},\"radialaxis\":{\"gridcolor\":\"white\",\"linecolor\":\"white\",\"ticks\":\"\"}},\"ternary\":{\"bgcolor\":\"#E5ECF6\",\"aaxis\":{\"gridcolor\":\"white\",\"linecolor\":\"white\",\"ticks\":\"\"},\"baxis\":{\"gridcolor\":\"white\",\"linecolor\":\"white\",\"ticks\":\"\"},\"caxis\":{\"gridcolor\":\"white\",\"linecolor\":\"white\",\"ticks\":\"\"}},\"coloraxis\":{\"colorbar\":{\"outlinewidth\":0,\"ticks\":\"\"}},\"colorscale\":{\"sequential\":[[0.0,\"#0d0887\"],[0.1111111111111111,\"#46039f\"],[0.2222222222222222,\"#7201a8\"],[0.3333333333333333,\"#9c179e\"],[0.4444444444444444,\"#bd3786\"],[0.5555555555555556,\"#d8576b\"],[0.6666666666666666,\"#ed7953\"],[0.7777777777777778,\"#fb9f3a\"],[0.8888888888888888,\"#fdca26\"],[1.0,\"#f0f921\"]],\"sequentialminus\":[[0.0,\"#0d0887\"],[0.1111111111111111,\"#46039f\"],[0.2222222222222222,\"#7201a8\"],[0.3333333333333333,\"#9c179e\"],[0.4444444444444444,\"#bd3786\"],[0.5555555555555556,\"#d8576b\"],[0.6666666666666666,\"#ed7953\"],[0.7777777777777778,\"#fb9f3a\"],[0.8888888888888888,\"#fdca26\"],[1.0,\"#f0f921\"]],\"diverging\":[[0,\"#8e0152\"],[0.1,\"#c51b7d\"],[0.2,\"#de77ae\"],[0.3,\"#f1b6da\"],[0.4,\"#fde0ef\"],[0.5,\"#f7f7f7\"],[0.6,\"#e6f5d0\"],[0.7,\"#b8e186\"],[0.8,\"#7fbc41\"],[0.9,\"#4d9221\"],[1,\"#276419\"]]},\"xaxis\":{\"gridcolor\":\"white\",\"linecolor\":\"white\",\"ticks\":\"\",\"title\":{\"standoff\":15},\"zerolinecolor\":\"white\",\"automargin\":true,\"zerolinewidth\":2},\"yaxis\":{\"gridcolor\":\"white\",\"linecolor\":\"white\",\"ticks\":\"\",\"title\":{\"standoff\":15},\"zerolinecolor\":\"white\",\"automargin\":true,\"zerolinewidth\":2},\"scene\":{\"xaxis\":{\"backgroundcolor\":\"#E5ECF6\",\"gridcolor\":\"white\",\"linecolor\":\"white\",\"showbackground\":true,\"ticks\":\"\",\"zerolinecolor\":\"white\",\"gridwidth\":2},\"yaxis\":{\"backgroundcolor\":\"#E5ECF6\",\"gridcolor\":\"white\",\"linecolor\":\"white\",\"showbackground\":true,\"ticks\":\"\",\"zerolinecolor\":\"white\",\"gridwidth\":2},\"zaxis\":{\"backgroundcolor\":\"#E5ECF6\",\"gridcolor\":\"white\",\"linecolor\":\"white\",\"showbackground\":true,\"ticks\":\"\",\"zerolinecolor\":\"white\",\"gridwidth\":2}},\"shapedefaults\":{\"line\":{\"color\":\"#2a3f5f\"}},\"annotationdefaults\":{\"arrowcolor\":\"#2a3f5f\",\"arrowhead\":0,\"arrowwidth\":1},\"geo\":{\"bgcolor\":\"white\",\"landcolor\":\"#E5ECF6\",\"subunitcolor\":\"white\",\"showland\":true,\"showlakes\":true,\"lakecolor\":\"white\"},\"title\":{\"x\":0.05},\"mapbox\":{\"style\":\"light\"}}}},                        {\"responsive\": true}                    ).then(function(){\n",
              "                            \n",
              "var gd = document.getElementById('ed19a42f-8faf-4351-bca7-82d7ae8b34c2');\n",
              "var x = new MutationObserver(function (mutations, observer) {{\n",
              "        var display = window.getComputedStyle(gd).display;\n",
              "        if (!display || display === 'none') {{\n",
              "            console.log([gd, 'removed!']);\n",
              "            Plotly.purge(gd);\n",
              "            observer.disconnect();\n",
              "        }}\n",
              "}});\n",
              "\n",
              "// Listen for the removal of the full notebook cells\n",
              "var notebookContainer = gd.closest('#notebook-container');\n",
              "if (notebookContainer) {{\n",
              "    x.observe(notebookContainer, {childList: true});\n",
              "}}\n",
              "\n",
              "// Listen for the clearing of the current output cell\n",
              "var outputEl = gd.closest('.output');\n",
              "if (outputEl) {{\n",
              "    x.observe(outputEl, {childList: true});\n",
              "}}\n",
              "\n",
              "                        })                };                            </script>        </div>\n",
              "</body>\n",
              "</html>"
            ]
          },
          "metadata": {}
        }
      ],
      "source": [
        "# Forecasting 3 periodos\n",
        "forecast_modelo1 = modelo1.forecast(3)\n",
        "forecast_modelo2 = modelo2.forecast(3)\n",
        "# Indices de tiempo para el gráfico\n",
        "periodo=list(range(1,len(prod)))\n",
        "periodoFuturo=[len(prod)+1,len(prod)+2,len(prod)+3]\n",
        "\n",
        "# Ploteemos\n",
        "fig = go.Figure()\n",
        "\n",
        "# Serie original\n",
        "fig.add_trace(go.Scatter(x=periodo, y=prod, mode='lines+markers', line=dict(color='black'), name='Serie original'))\n",
        "# Valores del fit\n",
        "fig.add_trace(go.Scatter(x=periodo, y=modelo1.fittedvalues, mode='lines+markers', line=dict(color='red'), name='Modelo 1'))\n",
        "fig.add_trace(go.Scatter(x=periodo, y=modelo2.fittedvalues, mode='lines+markers', line=dict(color='blue'), name='Modelo 2'))\n",
        "# Forecast\n",
        "fig.add_trace(go.Scatter(x=periodoFuturo, y=forecast_modelo1, mode='lines+markers', line=dict(color='red'), name='Forecast modelo 1'))\n",
        "fig.add_trace(go.Scatter(x=periodoFuturo, y=forecast_modelo2, mode='lines+markers', line=dict(color='blue'), name='Forecast modelo 2'))\n",
        "\n",
        "fig.show()"
      ]
    },
    {
      "cell_type": "markdown",
      "metadata": {
        "id": "Q7oFBLdJUCX5"
      },
      "source": [
        "# Proceso manual"
      ]
    },
    {
      "cell_type": "code",
      "execution_count": null,
      "metadata": {
        "colab": {
          "base_uri": "https://localhost:8080/"
        },
        "id": "FoiPM7bKUCX5",
        "outputId": "9fcbe3c5-12de-459f-cb0b-b7fb99b7dfe0"
      },
      "outputs": [
        {
          "output_type": "stream",
          "name": "stdout",
          "text": [
            "Parámetros optimización: [69.82703437  0.22317708]\n"
          ]
        }
      ],
      "source": [
        "\n",
        "# Copiemos los datos para evitar errores\n",
        "x=prod.copy()\n",
        "\n",
        "# Definamos la función de error (tenemos los parámetros y los datos)\n",
        "def mse(params, serie):\n",
        "\n",
        "    inicial, alpha = params\n",
        "    xPronostico=[inicial] #iniciamos con valor \"inicial\"\n",
        "    for i in range(len(serie)):\n",
        "        valor=alpha*serie[i]+(1.0-alpha)*xPronostico[-1] #aplicamos la fórmula\n",
        "        xPronostico.append(valor) # guardamos el valor\n",
        "    error = 0\n",
        "    for i in range(len(serie)):\n",
        "        error += (serie[i]-xPronostico[i])**2\n",
        "    return error  # Error cuadrático\n",
        "\n",
        "# valores iniciales\n",
        "initial_params = [77, 0.15]\n",
        "\n",
        "# Optimicemos\n",
        "result = minimize(mse, initial_params, args=(x,), method='L-BFGS-B')\n",
        "\n",
        "# Imprimamos\n",
        "if result.success:\n",
        "    print(f\"Parámetros optimización: {result.x}\")\n",
        "else:\n",
        "    print(\"Error:\", result.message)\n"
      ]
    }
  ],
  "metadata": {
    "colab": {
      "provenance": []
    },
    "kernelspec": {
      "display_name": "Python 3 (ipykernel)",
      "language": "python",
      "name": "python3"
    }
  },
  "nbformat": 4,
  "nbformat_minor": 0
}