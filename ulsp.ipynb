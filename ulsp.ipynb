{
  "cells": [
    {
      "cell_type": "code",
      "execution_count": 1,
      "id": "cb2f0e34",
      "metadata": {
        "colab": {
          "base_uri": "https://localhost:8080/"
        },
        "id": "cb2f0e34",
        "outputId": "33e7c9aa-3923-4291-d366-679fdb6632c2"
      },
      "outputs": [
        {
          "output_type": "stream",
          "name": "stdout",
          "text": [
            "Collecting mip\n",
            "  Downloading mip-1.15.0-py3-none-any.whl.metadata (21 kB)\n",
            "Collecting cffi==1.15.* (from mip)\n",
            "  Downloading cffi-1.15.1-cp311-cp311-manylinux_2_17_x86_64.manylinux2014_x86_64.whl.metadata (1.1 kB)\n",
            "Requirement already satisfied: pycparser in /usr/local/lib/python3.11/dist-packages (from cffi==1.15.*->mip) (2.22)\n",
            "Downloading mip-1.15.0-py3-none-any.whl (15.3 MB)\n",
            "\u001b[2K   \u001b[90m━━━━━━━━━━━━━━━━━━━━━━━━━━━━━━━━━━━━━━━━\u001b[0m \u001b[32m15.3/15.3 MB\u001b[0m \u001b[31m96.4 MB/s\u001b[0m eta \u001b[36m0:00:00\u001b[0m\n",
            "\u001b[?25hDownloading cffi-1.15.1-cp311-cp311-manylinux_2_17_x86_64.manylinux2014_x86_64.whl (462 kB)\n",
            "\u001b[2K   \u001b[90m━━━━━━━━━━━━━━━━━━━━━━━━━━━━━━━━━━━━━━━━\u001b[0m \u001b[32m462.6/462.6 kB\u001b[0m \u001b[31m19.1 MB/s\u001b[0m eta \u001b[36m0:00:00\u001b[0m\n",
            "\u001b[?25hInstalling collected packages: cffi, mip\n",
            "  Attempting uninstall: cffi\n",
            "    Found existing installation: cffi 1.17.1\n",
            "    Uninstalling cffi-1.17.1:\n",
            "      Successfully uninstalled cffi-1.17.1\n",
            "\u001b[31mERROR: pip's dependency resolver does not currently take into account all the packages that are installed. This behaviour is the source of the following dependency conflicts.\n",
            "pygit2 1.17.0 requires cffi>=1.17.0, but you have cffi 1.15.1 which is incompatible.\u001b[0m\u001b[31m\n",
            "\u001b[0mSuccessfully installed cffi-1.15.1 mip-1.15.0\n"
          ]
        }
      ],
      "source": [
        "!pip install mip"
      ]
    },
    {
      "cell_type": "code",
      "execution_count": 2,
      "id": "b41d208f",
      "metadata": {
        "id": "b41d208f"
      },
      "outputs": [],
      "source": [
        "from mip import * #importamos la librería de optimización"
      ]
    },
    {
      "cell_type": "code",
      "execution_count": 3,
      "id": "c58925ed",
      "metadata": {
        "id": "c58925ed"
      },
      "outputs": [],
      "source": [
        "K=100\n",
        "h=1\n",
        "a=10\n",
        "d=[10,15,22,14,11,10,9,8,24,13]\n",
        "dTotal=sum(d)\n",
        "periodos=len(d)"
      ]
    },
    {
      "cell_type": "code",
      "execution_count": 4,
      "id": "9f06c327",
      "metadata": {
        "id": "9f06c327"
      },
      "outputs": [],
      "source": [
        "m = Model(solver_name=CBC) #creamos el modelo\n",
        "\n",
        "y = [m.add_var(var_type=BINARY, lb=0) for i in range(periodos)]\n",
        "x = [m.add_var() for i in range(periodos)]\n",
        "s = [m.add_var() for i in range(periodos)]\n"
      ]
    },
    {
      "cell_type": "code",
      "execution_count": 5,
      "id": "e0df7eea",
      "metadata": {
        "id": "e0df7eea"
      },
      "outputs": [],
      "source": [
        "m.objective = minimize(K*xsum(y[i] for i in range(periodos))+h*xsum(s[i] for i in range(periodos))+a*xsum(x[i] for i in range(periodos)))"
      ]
    },
    {
      "cell_type": "code",
      "execution_count": 6,
      "id": "815cb0bc",
      "metadata": {
        "id": "815cb0bc"
      },
      "outputs": [],
      "source": [
        "for i in range(periodos):\n",
        "    m += x[i] <= dTotal*y[i]"
      ]
    },
    {
      "cell_type": "code",
      "execution_count": 7,
      "id": "79428176",
      "metadata": {
        "id": "79428176"
      },
      "outputs": [],
      "source": [
        "m += (x[0]==d[0]+s[0])\n",
        "for i in range(1,periodos):\n",
        "    m += (s[i-1] + x[i] == d[i]+s[i])"
      ]
    },
    {
      "cell_type": "code",
      "execution_count": 8,
      "id": "a4973583",
      "metadata": {
        "colab": {
          "base_uri": "https://localhost:8080/"
        },
        "id": "a4973583",
        "outputId": "b82bf26d-b586-423c-f859-25bc8883b1ef"
      },
      "outputs": [
        {
          "output_type": "execute_result",
          "data": {
            "text/plain": [
              "<OptimizationStatus.OPTIMAL: 0>"
            ]
          },
          "metadata": {},
          "execution_count": 8
        }
      ],
      "source": [
        "m.optimize()\n"
      ]
    },
    {
      "cell_type": "code",
      "execution_count": 9,
      "id": "3fdcb3bf",
      "metadata": {
        "colab": {
          "base_uri": "https://localhost:8080/"
        },
        "id": "3fdcb3bf",
        "outputId": "5fd7b5b3-59ac-4f8a-a467-a8a9327630ae"
      },
      "outputs": [
        {
          "output_type": "stream",
          "name": "stdout",
          "text": [
            "1822.0\n"
          ]
        }
      ],
      "source": [
        "print(m.objective_value)"
      ]
    },
    {
      "cell_type": "code",
      "execution_count": 10,
      "id": "51e364cb",
      "metadata": {
        "colab": {
          "base_uri": "https://localhost:8080/"
        },
        "id": "51e364cb",
        "outputId": "9a68f92a-9223-4070-ddcc-33c4e864da64"
      },
      "outputs": [
        {
          "output_type": "stream",
          "name": "stdout",
          "text": [
            "pedimos en el periodo 0   47.0  unidades\n",
            "pedimos en el periodo 3   52.0  unidades\n",
            "pedimos en el periodo 8   37.0  unidades\n"
          ]
        }
      ],
      "source": [
        "for i in range(periodos):\n",
        "    if y[i].x > 0.99:\n",
        "        print(\"pedimos en el periodo\",i,\" \",x[i].x,\" unidades\")\n"
      ]
    },
    {
      "cell_type": "code",
      "execution_count": 11,
      "id": "6a12cb41",
      "metadata": {
        "colab": {
          "base_uri": "https://localhost:8080/"
        },
        "id": "6a12cb41",
        "outputId": "cb36de49-d062-4bc0-9bf0-71921e8e9453"
      },
      "outputs": [
        {
          "output_type": "stream",
          "name": "stdout",
          "text": [
            "0 x 47.0 s 37.0 y 1.0\n",
            "1 x 0.0 s 22.0 y 0.0\n",
            "2 x 0.0 s 0.0 y 0.0\n",
            "3 x 52.0 s 38.0 y 1.0\n",
            "4 x 0.0 s 27.0 y 0.0\n",
            "5 x 0.0 s 17.0 y 0.0\n",
            "6 x 0.0 s 8.0 y 0.0\n",
            "7 x 0.0 s 0.0 y 0.0\n",
            "8 x 37.0 s 13.0 y 1.0\n",
            "9 x 0.0 s 0.0 y 0.0\n"
          ]
        }
      ],
      "source": [
        "for i in range(periodos):\n",
        "    print(i,\"x\",x[i].x,\"s\",s[i].x,\"y\",y[i].x)"
      ]
    }
  ],
  "metadata": {
    "kernelspec": {
      "display_name": "Python 3 (ipykernel)",
      "language": "python",
      "name": "python3"
    },
    "language_info": {
      "codemirror_mode": {
        "name": "ipython",
        "version": 3
      },
      "file_extension": ".py",
      "mimetype": "text/x-python",
      "name": "python",
      "nbconvert_exporter": "python",
      "pygments_lexer": "ipython3",
      "version": "3.11.6"
    },
    "colab": {
      "provenance": []
    }
  },
  "nbformat": 4,
  "nbformat_minor": 5
}