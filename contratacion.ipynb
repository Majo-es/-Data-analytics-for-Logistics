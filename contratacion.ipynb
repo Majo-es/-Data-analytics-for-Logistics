{
  "cells": [
    {
      "cell_type": "code",
      "execution_count": 2,
      "metadata": {
        "id": "phNzZyoViOqc",
        "colab": {
          "base_uri": "https://localhost:8080/"
        },
        "outputId": "c7f5c248-a2a3-4cc5-999e-68c337065a9a"
      },
      "outputs": [
        {
          "output_type": "stream",
          "name": "stdout",
          "text": [
            "Collecting mip\n",
            "  Downloading mip-1.15.0-py3-none-any.whl.metadata (21 kB)\n",
            "Collecting cffi==1.15.* (from mip)\n",
            "  Downloading cffi-1.15.1-cp311-cp311-manylinux_2_17_x86_64.manylinux2014_x86_64.whl.metadata (1.1 kB)\n",
            "Requirement already satisfied: pycparser in /usr/local/lib/python3.11/dist-packages (from cffi==1.15.*->mip) (2.22)\n",
            "Downloading mip-1.15.0-py3-none-any.whl (15.3 MB)\n",
            "\u001b[2K   \u001b[90m━━━━━━━━━━━━━━━━━━━━━━━━━━━━━━━━━━━━━━━━\u001b[0m \u001b[32m15.3/15.3 MB\u001b[0m \u001b[31m55.0 MB/s\u001b[0m eta \u001b[36m0:00:00\u001b[0m\n",
            "\u001b[?25hDownloading cffi-1.15.1-cp311-cp311-manylinux_2_17_x86_64.manylinux2014_x86_64.whl (462 kB)\n",
            "\u001b[2K   \u001b[90m━━━━━━━━━━━━━━━━━━━━━━━━━━━━━━━━━━━━━━━━\u001b[0m \u001b[32m462.6/462.6 kB\u001b[0m \u001b[31m20.7 MB/s\u001b[0m eta \u001b[36m0:00:00\u001b[0m\n",
            "\u001b[?25hInstalling collected packages: cffi, mip\n",
            "  Attempting uninstall: cffi\n",
            "    Found existing installation: cffi 1.17.1\n",
            "    Uninstalling cffi-1.17.1:\n",
            "      Successfully uninstalled cffi-1.17.1\n",
            "\u001b[31mERROR: pip's dependency resolver does not currently take into account all the packages that are installed. This behaviour is the source of the following dependency conflicts.\n",
            "pygit2 1.17.0 requires cffi>=1.17.0, but you have cffi 1.15.1 which is incompatible.\u001b[0m\u001b[31m\n",
            "\u001b[0mSuccessfully installed cffi-1.15.1 mip-1.15.0\n"
          ]
        }
      ],
      "source": [
        "!pip install mip"
      ]
    },
    {
      "cell_type": "code",
      "execution_count": 3,
      "metadata": {
        "id": "ktQrk3WxvgHT"
      },
      "outputs": [],
      "source": [
        "from mip import *"
      ]
    },
    {
      "cell_type": "code",
      "execution_count": null,
      "metadata": {
        "id": "9GIQMFu-f_LK"
      },
      "outputs": [],
      "source": [
        "dias=7\n",
        "requerimientos = [31, 45, 40, 40, 48, 30, 25]\n",
        "turnos=[[1,1,1,1,1,0,0], # 0\n",
        "        [0,1,1,1,1,1,0], # 1\n",
        "        [0,0,1,1,1,1,1], # 2\n",
        "        [1,0,0,1,1,1,1], # 3\n",
        "        [1,1,0,0,1,1,1], # 4\n",
        "        [1,1,1,0,0,1,1], # 5\n",
        "        [1,1,1,1,0,0,1]] # 6"
      ]
    },
    {
      "cell_type": "markdown",
      "source": [
        "LOS DIAS DONDE TRABAJAN ESTAN EN LA MATRIX DE TURNOS"
      ],
      "metadata": {
        "id": "26dWf4TT38ui"
      }
    },
    {
      "cell_type": "code",
      "execution_count": null,
      "metadata": {
        "id": "ABfe1U2wk9PY"
      },
      "outputs": [],
      "source": [
        "#crear estructura para guardar el modelo\n",
        "m = Model(\"personal\",solver_name=CBC)"
      ]
    },
    {
      "cell_type": "code",
      "execution_count": null,
      "metadata": {
        "id": "qm_kx-bCiVo6"
      },
      "outputs": [],
      "source": [
        "# KNAPSACK -> k = [m.add_var(var_type=BINARY) for i in I]\n",
        "#construir las variables\n",
        "x = [m.add_var(var_type=INTEGER) for i in range(7)]"
      ]
    },
    {
      "cell_type": "code",
      "execution_count": null,
      "metadata": {
        "id": "5mVp-QfkuuRz"
      },
      "outputs": [],
      "source": [
        "#construir el objetivo\n",
        "m.objective = minimize(xsum(x[i] for i in range(7)))\n",
        "#construir cada restricción\n",
        "for j in range(7):\n",
        "    m += xsum(turnos[i][j]*x[i] for i in range(7)) >= requerimientos[j]\n"
      ]
    },
    {
      "cell_type": "code",
      "execution_count": null,
      "metadata": {
        "id": "K91veEHuiaWD",
        "colab": {
          "base_uri": "https://localhost:8080/"
        },
        "outputId": "3ed77afa-ce0e-4116-eac5-78ba9e9cee6c"
      },
      "outputs": [
        {
          "output_type": "execute_result",
          "data": {
            "text/plain": [
              "<OptimizationStatus.OPTIMAL: 0>"
            ]
          },
          "metadata": {},
          "execution_count": 7
        }
      ],
      "source": [
        "# resolver\n",
        "m.optimize()"
      ]
    },
    {
      "cell_type": "markdown",
      "source": [
        "\n",
        "```\n",
        "#construir el objetivo\n",
        "m.objective = minimize(xsum(x[i] for i in range(7)))\n",
        "#construir cada restricción\n",
        "for j in range(7):\n",
        "    m += xsum(turnos[i][j]*x[i] for i in range(7)) == requerimientos[j]\n",
        "\n",
        "\n",
        "```\n",
        "\n",
        "\n",
        "```\n",
        "#construir el objetivo\n",
        "m.objective = minimize(xsum(x[i] for i in range(7)))\n",
        "#construir cada restricción\n",
        "for j in range(7):\n",
        "    m += xsum(turnos[i][j]*x[i] for i in range(7)) <= requerimientos[j]\n",
        "```\n",
        "\n",
        "\n"
      ],
      "metadata": {
        "id": "YZhuiO2Q4W7o"
      }
    },
    {
      "cell_type": "code",
      "execution_count": null,
      "metadata": {
        "id": "spwwdEGKvLRD",
        "colab": {
          "base_uri": "https://localhost:8080/"
        },
        "outputId": "2b7023c8-3d12-49bb-96df-be4f27d07929"
      },
      "outputs": [
        {
          "output_type": "stream",
          "name": "stdout",
          "text": [
            "numero de trabajadores 53\n",
            "turno 0 trabajadores 18\n",
            "turno 1 trabajadores 9\n",
            "turno 2 trabajadores 8\n",
            "turno 3 trabajadores 0\n",
            "turno 4 trabajadores 13\n",
            "turno 5 trabajadores 0\n",
            "turno 6 trabajadores 5\n",
            "necesidades 31 ( 0 , 18.0 ) ( 4 , 13.0 ) ( 6 , 5.0 ) total:  36.0\n",
            "necesidades 45 ( 0 , 18.0 ) ( 1 , 9.0 ) ( 4 , 13.0 ) ( 6 , 5.0 ) total:  45.0\n",
            "necesidades 40 ( 0 , 18.0 ) ( 1 , 9.0 ) ( 2 , 8.0 ) ( 6 , 5.0 ) total:  40.0\n",
            "necesidades 40 ( 0 , 18.0 ) ( 1 , 9.0 ) ( 2 , 8.0 ) ( 6 , 5.0 ) total:  40.0\n",
            "necesidades 48 ( 0 , 18.0 ) ( 1 , 9.0 ) ( 2 , 8.0 ) ( 4 , 13.0 ) total:  48.0\n",
            "necesidades 30 ( 1 , 9.0 ) ( 2 , 8.0 ) ( 4 , 13.0 ) total:  30.0\n",
            "necesidades 25 ( 2 , 8.0 ) ( 4 , 13.0 ) ( 6 , 5.0 ) total:  26.0\n"
          ]
        }
      ],
      "source": [
        "print(\"numero de trabajadores\",int(m.objective_value))\n",
        "for i in range(7):\n",
        "  print(\"turno\",i,\"trabajadores\",int(x[i].x))\n",
        "for j in range(7):\n",
        "  print(\"necesidades\",requerimientos[j],end=\" \")\n",
        "  acc=0\n",
        "  for i in range(7):\n",
        "    if turnos[i][j]==1 and x[i].x>0:\n",
        "      print(\"(\",i,\",\",x[i].x,\") \",end=\"\")\n",
        "      acc += x[i].x\n",
        "  print(\"total: \",acc)"
      ]
    },
    {
      "cell_type": "markdown",
      "source": [
        "optimization problem:\n",
        "- the optimal solution requires 53 workers in total.\n",
        "- the distribution of workers across the 7 shifts. For example, shift 0 has 18 workers, shift 1 has 9, and so on.\n"
      ],
      "metadata": {
        "id": "PmsNKQsju-4K"
      }
    },
    {
      "cell_type": "markdown",
      "source": [
        "## HW:\n",
        "\n",
        "Modifica el modelo de asignación de trabajadores de analítica prescriptiva analizado en clase para que considere sueldos diferentes en cada uno de los posibles turnos.\n",
        "\n",
        "Concretamente, considere que el coste de un turno de lunes a viernes es igual a 1, mientras que el sueldo de un turno que incluye el sábado o el domingo es igual a 1,15, y el sueldo de un turno que incluye ambos el sábado y el domingo es igual a 1,3.\n"
      ],
      "metadata": {
        "id": "7SXDwj1O4osL"
      }
    },
    {
      "cell_type": "markdown",
      "source": [
        "Option 1:\n"
      ],
      "metadata": {
        "id": "YrWBIXgZ2e7k"
      }
    },
    {
      "cell_type": "code",
      "source": [
        "from mip import Model, xsum, minimize, INTEGER\n",
        "\n",
        "# Definición de constantes\n",
        "dias = 7\n",
        "requerimientos = [31, 45, 40, 40, 48, 30, 25]\n",
        "\n",
        "# Definición de la disponibilidad de turnos: binary matrix\n",
        "turnos = [\n",
        "    [1, 1, 1, 1, 1, 0, 0],  # Turno 0: Lunes a Viernes\n",
        "    [0, 1, 1, 1, 1, 1, 0],  # Turno 1: Martes a Sábado\n",
        "    [0, 0, 1, 1, 1, 1, 1],  # Turno 2: Miércoles a Domingo\n",
        "    [1, 0, 0, 1, 1, 1, 1],  # Turno 3: Lunes, Jueves a Domingo\n",
        "    [1, 1, 0, 0, 1, 1, 1],  # Turno 4: Lunes, Martes, Viernes a Domingo\n",
        "    [1, 1, 1, 0, 0, 1, 1],  # Turno 5: Lunes a Miércoles, Sábado a Domingo\n",
        "    [1, 1, 1, 1, 0, 0, 1]   # Turno 6: Lunes a Jueves, Domingo\n",
        "]\n",
        "\n",
        "# Definición de los costos por turno\n",
        "base_cost = 1  # Costo base para turnos de lunes a viernes\n",
        "extra_weekend_15 = base_cost * 1.15  # Costo para turnos que incluyen sábado o domingo (15% extra)\n",
        "extra_weekend_30 = base_cost * 1.3   # Costo para turnos que incluyen sábado y domingo (30% extra)\n",
        "\n",
        "# Horas por turno\n",
        "hours_per_day = 9\n",
        "hours_per_shift = [sum(turno) * hours_per_day for turno in turnos]"
      ],
      "metadata": {
        "id": "YEWPNVfI2h2i"
      },
      "execution_count": 28,
      "outputs": []
    },
    {
      "cell_type": "code",
      "source": [
        "# Crear la estructura para guardar el modelo\n",
        "m = Model(\"personal\", solver_name=CBC)"
      ],
      "metadata": {
        "id": "cGy3VzsFE-oM"
      },
      "execution_count": 29,
      "outputs": []
    },
    {
      "cell_type": "code",
      "source": [
        "# Construir las variables\n",
        "x = [m.add_var(var_type=INTEGER) for i in range(7)]"
      ],
      "metadata": {
        "id": "w0ovyIwEFEHO"
      },
      "execution_count": 30,
      "outputs": []
    },
    {
      "cell_type": "code",
      "source": [
        "# Construir el objetivo: minimizar el costo total\n",
        "m.objective = minimize(xsum(\n",
        "    (base_cost * x[i] if turnos[i].count(1) == 5 else\n",
        "     extra_weekend_15 * x[i] if turnos[i].count(1) == 6 else\n",
        "     extra_weekend_30 * x[i])\n",
        "    for i in range(7)\n",
        "))\n",
        "\n",
        "# Construir cada restricción\n",
        "for j in range(7):\n",
        "    m += xsum(turnos[i][j] * x[i] for i in range(7)) >= requerimientos[j]"
      ],
      "metadata": {
        "id": "QyEptMs4FGyD"
      },
      "execution_count": 31,
      "outputs": []
    },
    {
      "cell_type": "code",
      "source": [
        "# Resolver el modelo\n",
        "m.optimize()"
      ],
      "metadata": {
        "colab": {
          "base_uri": "https://localhost:8080/"
        },
        "id": "q9JLt0imFJmh",
        "outputId": "93cd9bf8-95ce-4bd7-b6b8-04ac7bf1abf5"
      },
      "execution_count": 32,
      "outputs": [
        {
          "output_type": "execute_result",
          "data": {
            "text/plain": [
              "<OptimizationStatus.OPTIMAL: 0>"
            ]
          },
          "metadata": {},
          "execution_count": 32
        }
      ]
    },
    {
      "cell_type": "code",
      "source": [
        "# Imprimir resultados\n",
        "total_workers = sum(v.x for v in m.vars)\n",
        "print(f\"Número total de trabajadores: {int(total_workers)}\")\n",
        "print(f\"Costo total: {m.objective_value:.2f}\\n\")\n",
        "\n",
        "for i in range(7):\n",
        "    print(f\"Turno {i} trabajadores: {int(x[i].x)}, Horas: {hours_per_shift[i]}\")\n",
        "\n",
        "for j in range(7):\n",
        "    print(f\"Necesidades {requerimientos[j]}\", end=\" \")\n",
        "    acc = 0\n",
        "    for i in range(7):\n",
        "        if turnos[i][j] == 1 and x[i].x > 0:\n",
        "            print(f\"({i}, {int(x[i].x)}) \", end=\"\")\n",
        "            acc += x[i].x\n",
        "    print(f\"Total: {acc}\")"
      ],
      "metadata": {
        "colab": {
          "base_uri": "https://localhost:8080/"
        },
        "id": "G34yc5cMFLmp",
        "outputId": "0784bf0c-3553-47b5-ba9a-59cfbbe8fcef"
      },
      "execution_count": 33,
      "outputs": [
        {
          "output_type": "stream",
          "name": "stdout",
          "text": [
            "Número total de trabajadores: 53\n",
            "Costo total: 53.00\n",
            "\n",
            "Turno 0 trabajadores: 18, Horas: 45\n",
            "Turno 1 trabajadores: 9, Horas: 45\n",
            "Turno 2 trabajadores: 8, Horas: 45\n",
            "Turno 3 trabajadores: 0, Horas: 45\n",
            "Turno 4 trabajadores: 13, Horas: 45\n",
            "Turno 5 trabajadores: 0, Horas: 45\n",
            "Turno 6 trabajadores: 5, Horas: 45\n",
            "Necesidades 31 (0, 18) (4, 13) (6, 5) Total: 36.0\n",
            "Necesidades 45 (0, 18) (1, 9) (4, 13) (6, 5) Total: 45.0\n",
            "Necesidades 40 (0, 18) (1, 9) (2, 8) (6, 5) Total: 40.0\n",
            "Necesidades 40 (0, 18) (1, 9) (2, 8) (6, 5) Total: 40.0\n",
            "Necesidades 48 (0, 18) (1, 9) (2, 8) (4, 13) Total: 48.0\n",
            "Necesidades 30 (1, 9) (2, 8) (4, 13) Total: 30.0\n",
            "Necesidades 25 (2, 8) (4, 13) (6, 5) Total: 26.0\n"
          ]
        }
      ]
    },
    {
      "cell_type": "markdown",
      "source": [
        "Necesidades 31: 31 trabajores son necesitados. 18 trabajadores fueron asignados al turno 0, 13 trabajadores fueron asignados al turno 4, y  5 trabajadores fueron asignados al turno 6. 5 trabajadores extra."
      ],
      "metadata": {
        "id": "MH1C8y5oFxOR"
      }
    },
    {
      "cell_type": "markdown",
      "source": [
        "If we consider extra costs:"
      ],
      "metadata": {
        "id": "yiLoG47AN-a_"
      }
    },
    {
      "cell_type": "code",
      "source": [
        "from mip import Model, xsum, minimize, INTEGER\n",
        "\n",
        "# Definición de constantes\n",
        "dias = 7\n",
        "requerimientos = [31, 45, 40, 40, 48, 30, 25]\n",
        "turnos = [\n",
        "    [1, 1, 1, 1, 1, 0, 0],  # Turno 0: Lunes a Viernes\n",
        "    [0, 1, 1, 1, 1, 1, 0],  # Turno 1: Martes a Sábado\n",
        "    [0, 0, 1, 1, 1, 1, 1],  # Turno 2: Miércoles a Domingo\n",
        "    [1, 0, 0, 1, 1, 1, 1],  # Turno 3: Lunes, Jueves a Domingo\n",
        "    [1, 1, 0, 0, 1, 1, 1],  # Turno 4: Lunes, Martes, Viernes a Domingo\n",
        "    [1, 1, 1, 0, 0, 1, 1],  # Turno 5: Lunes a Miércoles, Sábado a Domingo\n",
        "    [1, 1, 1, 1, 0, 0, 1]   # Turno 6: Lunes a Jueves, Domingo\n",
        "]\n",
        "\n",
        "# Costos por turno\n",
        "base_cost = 1\n",
        "extra_weekend_15 = base_cost * 1.15\n",
        "extra_weekend_30 = base_cost * 1.3\n",
        "\n",
        "# Costos adicionales\n",
        "overtime_cost = 0.2  # Costo por hora extra por trabajador\n",
        "training_costs = [0, 0.5, 0.75, 0.5, 0.5, 0.75, 1]  # Costo de capacitación por trabajador por turno\n",
        "\n",
        "# Horas por turno\n",
        "hours_per_day = 9\n",
        "hours_per_shift = [sum(turno) * hours_per_day for turno in turnos]"
      ],
      "metadata": {
        "id": "f2J8l2uuOChw"
      },
      "execution_count": 22,
      "outputs": []
    },
    {
      "cell_type": "code",
      "source": [
        "# Crear el modelo\n",
        "m = Model(\"personal\", solver_name=CBC)"
      ],
      "metadata": {
        "id": "aObwuwK_OGox"
      },
      "execution_count": 23,
      "outputs": []
    },
    {
      "cell_type": "code",
      "source": [
        "# Variables de decisión\n",
        "x = [m.add_var(var_type=INTEGER) for i in range(7)]"
      ],
      "metadata": {
        "id": "AzcXvJ_YOKjC"
      },
      "execution_count": 24,
      "outputs": []
    },
    {
      "cell_type": "code",
      "source": [
        "# Función objetivo: minimizar el costo total\n",
        "m.objective = minimize(xsum(\n",
        "    (base_cost * x[i] if turnos[i].count(1) == 5 else\n",
        "     extra_weekend_15 * x[i] if turnos[i].count(1) == 6 else\n",
        "     extra_weekend_30 * x[i]) +\n",
        "    (overtime_cost * (hours_per_shift[i] - 8 * turnos[i].count(1)) * x[i] if hours_per_shift[i] > 8 * turnos[i].count(1) else 0) +\n",
        "    (training_costs[i] * x[i])\n",
        "    for i in range(7)\n",
        "))\n",
        "\n",
        "# Restricciones de necesidades diarias\n",
        "for j in range(7):\n",
        "    m += xsum(turnos[i][j] * x[i] for i in range(7)) >= requerimientos[j]"
      ],
      "metadata": {
        "id": "fy3qRR75OOLV"
      },
      "execution_count": 25,
      "outputs": []
    },
    {
      "cell_type": "code",
      "source": [
        "# Resolver el modelo\n",
        "m.optimize()"
      ],
      "metadata": {
        "colab": {
          "base_uri": "https://localhost:8080/"
        },
        "id": "hxGl5UfNOQ1Z",
        "outputId": "0c7fdf71-c849-474a-c823-76512eba3c4a"
      },
      "execution_count": 26,
      "outputs": [
        {
          "output_type": "execute_result",
          "data": {
            "text/plain": [
              "<OptimizationStatus.OPTIMAL: 0>"
            ]
          },
          "metadata": {},
          "execution_count": 26
        }
      ]
    },
    {
      "cell_type": "code",
      "source": [
        "# Imprimir resultados\n",
        "total_workers = sum(v.x for v in m.vars)\n",
        "print(f\"Número total de trabajadores: {int(total_workers)}\")\n",
        "print(f\"Costo total: {m.objective_value:.2f}\\n\")\n",
        "\n",
        "for i in range(7):\n",
        "    print(f\"Turno {i} trabajadores: {int(x[i].x)}\")\n",
        "\n",
        "for j in range(7):\n",
        "    print(f\"Necesidades {requerimientos[j]}\", end=\" \")\n",
        "    acc = 0\n",
        "    for i in range(7):\n",
        "        if turnos[i][j] == 1 and x[i].x > 0:\n",
        "            print(f\"({i}, {int(x[i].x)}) \", end=\"\")\n",
        "            acc += x[i].x\n",
        "    print(f\"Total: {acc}\")"
      ],
      "metadata": {
        "colab": {
          "base_uri": "https://localhost:8080/"
        },
        "id": "1k9UArJ5OSmq",
        "outputId": "c461de95-6d00-45e0-f0a7-51e49f102259"
      },
      "execution_count": 27,
      "outputs": [
        {
          "output_type": "stream",
          "name": "stdout",
          "text": [
            "Número total de trabajadores: 53\n",
            "Costo total: 127.00\n",
            "\n",
            "Turno 0 trabajadores: 19\n",
            "Turno 1 trabajadores: 9\n",
            "Turno 2 trabajadores: 8\n",
            "Turno 3 trabajadores: 0\n",
            "Turno 4 trabajadores: 13\n",
            "Turno 5 trabajadores: 0\n",
            "Turno 6 trabajadores: 4\n",
            "Necesidades 31 (0, 19) (4, 13) (6, 4) Total: 36.0\n",
            "Necesidades 45 (0, 19) (1, 9) (4, 13) (6, 4) Total: 45.0\n",
            "Necesidades 40 (0, 19) (1, 9) (2, 8) (6, 4) Total: 40.0\n",
            "Necesidades 40 (0, 19) (1, 9) (2, 8) (6, 4) Total: 40.0\n",
            "Necesidades 48 (0, 19) (1, 9) (2, 8) (4, 13) Total: 49.0\n",
            "Necesidades 30 (1, 9) (2, 8) (4, 13) Total: 30.0\n",
            "Necesidades 25 (2, 8) (4, 13) (6, 4) Total: 25.0\n"
          ]
        }
      ]
    }
  ],
  "metadata": {
    "colab": {
      "provenance": []
    },
    "kernelspec": {
      "display_name": "Python 3 (ipykernel)",
      "language": "python",
      "name": "python3"
    },
    "language_info": {
      "codemirror_mode": {
        "name": "ipython",
        "version": 3
      },
      "file_extension": ".py",
      "mimetype": "text/x-python",
      "name": "python",
      "nbconvert_exporter": "python",
      "pygments_lexer": "ipython3",
      "version": "3.11.8"
    }
  },
  "nbformat": 4,
  "nbformat_minor": 0
}