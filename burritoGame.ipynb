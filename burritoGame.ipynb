{
  "cells": [
    {
      "cell_type": "code",
      "execution_count": null,
      "id": "d4bd4bf0",
      "metadata": {
        "id": "d4bd4bf0"
      },
      "outputs": [],
      "source": [
        "import plotly.graph_objs as go #librería para hacer dibujos\n",
        "import pandas as pd #importar pandas"
      ]
    },
    {
      "cell_type": "code",
      "execution_count": null,
      "id": "97591e7f",
      "metadata": {
        "colab": {
          "base_uri": "https://localhost:8080/"
        },
        "collapsed": true,
        "id": "97591e7f",
        "outputId": "09e85341-f1f3-433d-ff9c-df768af8f344"
      },
      "outputs": [
        {
          "output_type": "stream",
          "name": "stdout",
          "text": [
            "--2025-03-19 12:13:35--  https://github.com/jordipereiragude/dataforcourses/raw/refs/heads/main/localizacionesPotencialesBurrito.csv\n",
            "Resolving github.com (github.com)... 140.82.114.4\n",
            "Connecting to github.com (github.com)|140.82.114.4|:443... connected.\n",
            "HTTP request sent, awaiting response... 302 Found\n",
            "Location: https://raw.githubusercontent.com/jordipereiragude/dataforcourses/refs/heads/main/localizacionesPotencialesBurrito.csv [following]\n",
            "--2025-03-19 12:13:35--  https://raw.githubusercontent.com/jordipereiragude/dataforcourses/refs/heads/main/localizacionesPotencialesBurrito.csv\n",
            "Resolving raw.githubusercontent.com (raw.githubusercontent.com)... 185.199.108.133, 185.199.109.133, 185.199.110.133, ...\n",
            "Connecting to raw.githubusercontent.com (raw.githubusercontent.com)|185.199.108.133|:443... connected.\n",
            "HTTP request sent, awaiting response... 200 OK\n",
            "Length: 596 [text/plain]\n",
            "Saving to: ‘localizacionesPotencialesBurrito.csv’\n",
            "\n",
            "localizacionesPoten 100%[===================>]     596  --.-KB/s    in 0s      \n",
            "\n",
            "2025-03-19 12:13:35 (27.7 MB/s) - ‘localizacionesPotencialesBurrito.csv’ saved [596/596]\n",
            "\n",
            "--2025-03-19 12:13:36--  https://github.com/jordipereiragude/dataforcourses/raw/refs/heads/main/clientesBurrito.csv\n",
            "Resolving github.com (github.com)... 140.82.113.4\n",
            "Connecting to github.com (github.com)|140.82.113.4|:443... connected.\n",
            "HTTP request sent, awaiting response... 302 Found\n",
            "Location: https://raw.githubusercontent.com/jordipereiragude/dataforcourses/refs/heads/main/clientesBurrito.csv [following]\n",
            "--2025-03-19 12:13:36--  https://raw.githubusercontent.com/jordipereiragude/dataforcourses/refs/heads/main/clientesBurrito.csv\n",
            "Resolving raw.githubusercontent.com (raw.githubusercontent.com)... 185.199.108.133, 185.199.109.133, 185.199.110.133, ...\n",
            "Connecting to raw.githubusercontent.com (raw.githubusercontent.com)|185.199.108.133|:443... connected.\n",
            "HTTP request sent, awaiting response... 200 OK\n",
            "Length: 1181 (1.2K) [text/plain]\n",
            "Saving to: ‘clientesBurrito.csv’\n",
            "\n",
            "clientesBurrito.csv 100%[===================>]   1.15K  --.-KB/s    in 0s      \n",
            "\n",
            "2025-03-19 12:13:36 (59.9 MB/s) - ‘clientesBurrito.csv’ saved [1181/1181]\n",
            "\n",
            "--2025-03-19 12:13:36--  https://github.com/jordipereiragude/dataforcourses/raw/refs/heads/main/demandaCapturadaBurrito.csv\n",
            "Resolving github.com (github.com)... 140.82.113.3\n",
            "Connecting to github.com (github.com)|140.82.113.3|:443... connected.\n",
            "HTTP request sent, awaiting response... 302 Found\n",
            "Location: https://raw.githubusercontent.com/jordipereiragude/dataforcourses/refs/heads/main/demandaCapturadaBurrito.csv [following]\n",
            "--2025-03-19 12:13:36--  https://raw.githubusercontent.com/jordipereiragude/dataforcourses/refs/heads/main/demandaCapturadaBurrito.csv\n",
            "Resolving raw.githubusercontent.com (raw.githubusercontent.com)... 185.199.108.133, 185.199.109.133, 185.199.110.133, ...\n",
            "Connecting to raw.githubusercontent.com (raw.githubusercontent.com)|185.199.108.133|:443... connected.\n",
            "HTTP request sent, awaiting response... 200 OK\n",
            "Length: 7889 (7.7K) [text/plain]\n",
            "Saving to: ‘demandaCapturadaBurrito.csv’\n",
            "\n",
            "demandaCapturadaBur 100%[===================>]   7.70K  --.-KB/s    in 0.001s  \n",
            "\n",
            "2025-03-19 12:13:36 (14.3 MB/s) - ‘demandaCapturadaBurrito.csv’ saved [7889/7889]\n",
            "\n",
            "--2025-03-19 12:13:36--  https://github.com/jordipereiragude/dataforcourses/raw/refs/heads/main/preciosBurrito.csv\n",
            "Resolving github.com (github.com)... 140.82.113.3\n",
            "Connecting to github.com (github.com)|140.82.113.3|:443... connected.\n",
            "HTTP request sent, awaiting response... 302 Found\n",
            "Location: https://raw.githubusercontent.com/jordipereiragude/dataforcourses/refs/heads/main/preciosBurrito.csv [following]\n",
            "--2025-03-19 12:13:36--  https://raw.githubusercontent.com/jordipereiragude/dataforcourses/refs/heads/main/preciosBurrito.csv\n",
            "Resolving raw.githubusercontent.com (raw.githubusercontent.com)... 185.199.108.133, 185.199.109.133, 185.199.110.133, ...\n",
            "Connecting to raw.githubusercontent.com (raw.githubusercontent.com)|185.199.108.133|:443... connected.\n",
            "HTTP request sent, awaiting response... 200 OK\n",
            "Length: 49 [text/plain]\n",
            "Saving to: ‘preciosBurrito.csv’\n",
            "\n",
            "preciosBurrito.csv  100%[===================>]      49  --.-KB/s    in 0s      \n",
            "\n",
            "2025-03-19 12:13:37 (1.21 MB/s) - ‘preciosBurrito.csv’ saved [49/49]\n",
            "\n"
          ]
        }
      ],
      "source": [
        "#obtengamos los datos csv\n",
        "# 1 dia\n",
        "!wget -O localizacionesPotencialesBurrito.csv \"https://github.com/jordipereiragude/dataforcourses/raw/refs/heads/main/localizacionesPotencialesBurrito.csv\"\n",
        "localizacionesPotenciales = pd.read_csv('localizacionesPotencialesBurrito.csv')\n",
        "!wget -O clientesBurrito.csv \"https://github.com/jordipereiragude/dataforcourses/raw/refs/heads/main/clientesBurrito.csv\"\n",
        "clientes = pd.read_csv('clientesBurrito.csv')\n",
        "!wget -O demandaCapturadaBurrito.csv \"https://github.com/jordipereiragude/dataforcourses/raw/refs/heads/main/demandaCapturadaBurrito.csv\"\n",
        "demandaCapturada = pd.read_csv('demandaCapturadaBurrito.csv')\n",
        "!wget -O preciosBurrito.csv \"https://github.com/jordipereiragude/dataforcourses/raw/refs/heads/main/preciosBurrito.csv\"\n",
        "precios = pd.read_csv('preciosBurrito.csv')"
      ]
    },
    {
      "cell_type": "markdown",
      "id": "30a60e3e",
      "metadata": {
        "id": "30a60e3e"
      },
      "source": [
        "## Parte 1. Leamos los datos"
      ]
    },
    {
      "cell_type": "code",
      "execution_count": null,
      "id": "94bc05a6",
      "metadata": {
        "colab": {
          "base_uri": "https://localhost:8080/"
        },
        "id": "94bc05a6",
        "outputId": "ad43f6bb-6d42-4272-9a3e-de9b4229903d"
      },
      "outputs": [
        {
          "output_type": "stream",
          "name": "stdout",
          "text": [
            "   burrito_price  ingredient_cost  truck_cost\n",
            "0             10                5         250\n"
          ]
        }
      ],
      "source": [
        "print(precios)\n",
        "# PV: precio de varibale -> burrito_price\n",
        "# CF: coste fijo -> ingredient_cost\n",
        "# CV: coste de variable -> truck_cost"
      ]
    },
    {
      "cell_type": "markdown",
      "source": [
        "- En que consta una solucion:\n",
        "- Como compraramos 2 soluciones? **[MAX] beneficios**\n",
        "- Que cosas tiene que cumplir la solucion?\n",
        "  - los clientes van al carrito mas cercano y solo van a uno.\n",
        "-  `Datos`, pv, cf, cv, 13 candidatos,"
      ],
      "metadata": {
        "id": "bO02Ur-fsLTI"
      },
      "id": "bO02Ur-fsLTI"
    },
    {
      "cell_type": "code",
      "execution_count": null,
      "id": "0c178a9c",
      "metadata": {
        "colab": {
          "base_uri": "https://localhost:8080/"
        },
        "id": "0c178a9c",
        "outputId": "106195ef-452d-4b05-b58a-51dbc1b3eb25"
      },
      "outputs": [
        {
          "output_type": "stream",
          "name": "stdout",
          "text": [
            "coste fijo:  250\n",
            "venta:  10\n",
            "coste variable:  5\n"
          ]
        }
      ],
      "source": [
        "cf = precios['truck_cost'][0]\n",
        "pv = precios['burrito_price'][0]\n",
        "cv = precios['ingredient_cost'][0]\n",
        "print(\"coste fijo: \",cf)\n",
        "print(\"venta: \",pv)\n",
        "print(\"coste variable: \",cv)"
      ]
    },
    {
      "cell_type": "code",
      "execution_count": null,
      "id": "e9259462",
      "metadata": {
        "colab": {
          "base_uri": "https://localhost:8080/"
        },
        "id": "e9259462",
        "outputId": "2b90f3a4-1e42-41fd-f2ed-cfce40563d14"
      },
      "outputs": [
        {
          "output_type": "stream",
          "name": "stdout",
          "text": [
            "localizaciones potenciales 13\n",
            "|    | index   |       x |       y |\n",
            "|---:|:--------|--------:|--------:|\n",
            "|  0 | truck9  | 218.676 | 145.633 |\n",
            "|  1 | truck14 | 150.651 | 222.641 |\n",
            "|  2 | truck17 | 310.62  | 222.02  |\n",
            "|  3 | truck18 | 364.668 | 222.641 |\n",
            "|  4 | truck29 | 296.021 | 350.885 |\n",
            "|  5 | truck30 | 332.053 | 352.127 |\n",
            "|  6 | truck36 | 303.165 | 414.851 |\n",
            "|  7 | truck37 | 209.358 | 398.394 |\n",
            "|  8 | truck38 | 112.444 | 397.773 |\n",
            "|  9 | truck42 | 276.141 | 476.955 |\n",
            "| 10 | truck43 | 290.43  | 506.765 |\n",
            "| 11 | truck49 | 492.643 | 479.75  |\n",
            "| 12 | truck44 | 315.59  | 295.923 |\n"
          ]
        }
      ],
      "source": [
        "#información de las localizaciones\n",
        "print(\"localizaciones potenciales\",len(localizacionesPotenciales))\n",
        "print(localizacionesPotenciales.to_markdown())"
      ]
    },
    {
      "cell_type": "code",
      "execution_count": null,
      "id": "2c516c42",
      "metadata": {
        "colab": {
          "base_uri": "https://localhost:8080/"
        },
        "id": "2c516c42",
        "outputId": "46f62f58-5ee4-46f2-907a-27718e44f481"
      },
      "outputs": [
        {
          "output_type": "stream",
          "name": "stdout",
          "text": [
            "clientes 16\n",
            "|    | index    | name                                  |        x |       y |   demand |\n",
            "|---:|:---------|:--------------------------------------|---------:|--------:|---------:|\n",
            "|  0 | demand11 | Reinforcement Learning Puppy Training | 284.839  | 188.795 |       50 |\n",
            "|  1 | demand12 | KKT Air Conditioning                  | 256.572  | 158.053 |       35 |\n",
            "|  2 | demand13 | Linear Regression Psychology Services | 315.279  | 163.643 |       30 |\n",
            "|  3 | demand14 | George's Basic Diet Solutions         | 213.707  | 160.538 |       25 |\n",
            "|  4 | demand16 | Rothberg Tower                        | 129.218  | 168.611 |       25 |\n",
            "|  5 | demand20 | Complex Complex                       | 239.488  | 246.861 |       30 |\n",
            "|  6 | demand21 | Gurobi Polytope                       | 295.71   | 240.962 |       50 |\n",
            "|  7 | demand23 | Anna Konda's Pet Shop                 | 395.419  | 220.778 |        5 |\n",
            "|  8 | demand25 | Fourier Transform Towers              | 460.96   | 302.134 |       50 |\n",
            "|  9 | demand28 | RINS Laundromat                       | 169.909  | 306.17  |       15 |\n",
            "| 10 | demand31 | Edgeworth's Newsvendors               |  72.6851 | 359.89  |       30 |\n",
            "| 11 | demand33 | Interior Point Decorating             | 267.133  | 362.063 |       50 |\n",
            "| 12 | demand40 | Land & Harcourt's B&B                 | 375.229  | 491.239 |       45 |\n",
            "| 13 | demand47 | Logistic Regression Couriers          | 375.229  | 397.462 |       10 |\n",
            "| 14 | demand49 | Big-M Market                          | 241.973  | 421.683 |       25 |\n",
            "| 15 | demand52 | Cutting Stock Atelier                 | 217.123  | 104.023 |       30 |\n"
          ]
        }
      ],
      "source": [
        "#información de los clientes\n",
        "print(\"clientes\",len(clientes))\n",
        "print(clientes.to_markdown())"
      ]
    },
    {
      "cell_type": "code",
      "execution_count": null,
      "id": "4ceaeda7",
      "metadata": {
        "colab": {
          "base_uri": "https://localhost:8080/",
          "height": 617
        },
        "id": "4ceaeda7",
        "outputId": "8a314918-0f99-457c-e1e7-325e38051108"
      },
      "outputs": [
        {
          "output_type": "display_data",
          "data": {
            "text/html": [
              "<html>\n",
              "<head><meta charset=\"utf-8\" /></head>\n",
              "<body>\n",
              "    <div>            <script src=\"https://cdnjs.cloudflare.com/ajax/libs/mathjax/2.7.5/MathJax.js?config=TeX-AMS-MML_SVG\"></script><script type=\"text/javascript\">if (window.MathJax && window.MathJax.Hub && window.MathJax.Hub.Config) {window.MathJax.Hub.Config({SVG: {font: \"STIX-Web\"}});}</script>                <script type=\"text/javascript\">window.PlotlyConfig = {MathJaxConfig: 'local'};</script>\n",
              "        <script charset=\"utf-8\" src=\"https://cdn.plot.ly/plotly-2.35.2.min.js\"></script>                <div id=\"d0fbf19b-6eda-4271-8ade-08925126fd1b\" class=\"plotly-graph-div\" style=\"height:600px; width:800px;\"></div>            <script type=\"text/javascript\">                                    window.PLOTLYENV=window.PLOTLYENV || {};                                    if (document.getElementById(\"d0fbf19b-6eda-4271-8ade-08925126fd1b\")) {                    Plotly.newPlot(                        \"d0fbf19b-6eda-4271-8ade-08925126fd1b\",                        [{\"marker\":{\"color\":\"black\",\"size\":12},\"mode\":\"markers\",\"name\":\"localizacionesPotenciales\",\"text\":[\"truck9\",\"truck14\",\"truck17\",\"truck18\",\"truck29\",\"truck30\",\"truck36\",\"truck37\",\"truck38\",\"truck42\",\"truck43\",\"truck49\",\"truck44\"],\"x\":[218.6764886433395,150.65070595457337,310.62001227747083,364.6678944137508,296.0208717004297,332.0527931246164,303.16513198281154,209.35788827501537,112.44444444444444,276.1411909146716,290.42971147943524,492.6433394720688,315.5899324739104],\"y\":[145.63272120200335,222.6410684474124,222.0200333889817,222.6410684474124,350.8848080133556,352.12687813021705,414.8514190317196,398.3939899833055,397.7729549248748,476.95492487479135,506.7646076794658,479.7495826377296,295.92320534223705],\"type\":\"scatter\"},{\"marker\":{\"color\":\"green\",\"size\":8},\"mode\":\"markers\",\"name\":\"clientes\",\"text\":[\"Reinforcement Learning Puppy Training\",\"KKT Air Conditioning\",\"Linear Regression Psychology Services\",\"George's Basic Diet Solutions\",\"Rothberg Tower\",\"Complex Complex\",\"Gurobi Polytope\",\"Anna Konda's Pet Shop\",\"Fourier Transform Towers\",\"RINS Laundromat\",\"Edgeworth's Newsvendors\",\"Interior Point Decorating\",\"Land & Harcourt's B&B\",\"Logistic Regression Couriers\",\"Big-M Market\",\"Cutting Stock Atelier\"],\"x\":[284.8385512584408,256.57213014119094,315.2793124616329,213.70656844689995,129.21792510742787,239.48802946593003,295.71025168815225,395.4192756292204,460.96009821976673,169.90914671577656,72.68508287292818,267.1332105586249,375.2289748311848,375.2289748311848,241.9729895641498,217.12338858195213],\"y\":[188.79465776293824,158.0534223706177,163.64273789649417,160.53756260434056,168.6110183639399,246.8614357262104,240.96160267111856,220.77796327212025,302.13355592654426,306.17028380634395,359.889816360601,362.0634390651085,491.23873121869786,397.4624373956594,421.68280467445743,104.02337228714524],\"type\":\"scatter\"}],                        {\"template\":{\"data\":{\"histogram2dcontour\":[{\"type\":\"histogram2dcontour\",\"colorbar\":{\"outlinewidth\":0,\"ticks\":\"\"},\"colorscale\":[[0.0,\"#0d0887\"],[0.1111111111111111,\"#46039f\"],[0.2222222222222222,\"#7201a8\"],[0.3333333333333333,\"#9c179e\"],[0.4444444444444444,\"#bd3786\"],[0.5555555555555556,\"#d8576b\"],[0.6666666666666666,\"#ed7953\"],[0.7777777777777778,\"#fb9f3a\"],[0.8888888888888888,\"#fdca26\"],[1.0,\"#f0f921\"]]}],\"choropleth\":[{\"type\":\"choropleth\",\"colorbar\":{\"outlinewidth\":0,\"ticks\":\"\"}}],\"histogram2d\":[{\"type\":\"histogram2d\",\"colorbar\":{\"outlinewidth\":0,\"ticks\":\"\"},\"colorscale\":[[0.0,\"#0d0887\"],[0.1111111111111111,\"#46039f\"],[0.2222222222222222,\"#7201a8\"],[0.3333333333333333,\"#9c179e\"],[0.4444444444444444,\"#bd3786\"],[0.5555555555555556,\"#d8576b\"],[0.6666666666666666,\"#ed7953\"],[0.7777777777777778,\"#fb9f3a\"],[0.8888888888888888,\"#fdca26\"],[1.0,\"#f0f921\"]]}],\"heatmap\":[{\"type\":\"heatmap\",\"colorbar\":{\"outlinewidth\":0,\"ticks\":\"\"},\"colorscale\":[[0.0,\"#0d0887\"],[0.1111111111111111,\"#46039f\"],[0.2222222222222222,\"#7201a8\"],[0.3333333333333333,\"#9c179e\"],[0.4444444444444444,\"#bd3786\"],[0.5555555555555556,\"#d8576b\"],[0.6666666666666666,\"#ed7953\"],[0.7777777777777778,\"#fb9f3a\"],[0.8888888888888888,\"#fdca26\"],[1.0,\"#f0f921\"]]}],\"heatmapgl\":[{\"type\":\"heatmapgl\",\"colorbar\":{\"outlinewidth\":0,\"ticks\":\"\"},\"colorscale\":[[0.0,\"#0d0887\"],[0.1111111111111111,\"#46039f\"],[0.2222222222222222,\"#7201a8\"],[0.3333333333333333,\"#9c179e\"],[0.4444444444444444,\"#bd3786\"],[0.5555555555555556,\"#d8576b\"],[0.6666666666666666,\"#ed7953\"],[0.7777777777777778,\"#fb9f3a\"],[0.8888888888888888,\"#fdca26\"],[1.0,\"#f0f921\"]]}],\"contourcarpet\":[{\"type\":\"contourcarpet\",\"colorbar\":{\"outlinewidth\":0,\"ticks\":\"\"}}],\"contour\":[{\"type\":\"contour\",\"colorbar\":{\"outlinewidth\":0,\"ticks\":\"\"},\"colorscale\":[[0.0,\"#0d0887\"],[0.1111111111111111,\"#46039f\"],[0.2222222222222222,\"#7201a8\"],[0.3333333333333333,\"#9c179e\"],[0.4444444444444444,\"#bd3786\"],[0.5555555555555556,\"#d8576b\"],[0.6666666666666666,\"#ed7953\"],[0.7777777777777778,\"#fb9f3a\"],[0.8888888888888888,\"#fdca26\"],[1.0,\"#f0f921\"]]}],\"surface\":[{\"type\":\"surface\",\"colorbar\":{\"outlinewidth\":0,\"ticks\":\"\"},\"colorscale\":[[0.0,\"#0d0887\"],[0.1111111111111111,\"#46039f\"],[0.2222222222222222,\"#7201a8\"],[0.3333333333333333,\"#9c179e\"],[0.4444444444444444,\"#bd3786\"],[0.5555555555555556,\"#d8576b\"],[0.6666666666666666,\"#ed7953\"],[0.7777777777777778,\"#fb9f3a\"],[0.8888888888888888,\"#fdca26\"],[1.0,\"#f0f921\"]]}],\"mesh3d\":[{\"type\":\"mesh3d\",\"colorbar\":{\"outlinewidth\":0,\"ticks\":\"\"}}],\"scatter\":[{\"fillpattern\":{\"fillmode\":\"overlay\",\"size\":10,\"solidity\":0.2},\"type\":\"scatter\"}],\"parcoords\":[{\"type\":\"parcoords\",\"line\":{\"colorbar\":{\"outlinewidth\":0,\"ticks\":\"\"}}}],\"scatterpolargl\":[{\"type\":\"scatterpolargl\",\"marker\":{\"colorbar\":{\"outlinewidth\":0,\"ticks\":\"\"}}}],\"bar\":[{\"error_x\":{\"color\":\"#2a3f5f\"},\"error_y\":{\"color\":\"#2a3f5f\"},\"marker\":{\"line\":{\"color\":\"#E5ECF6\",\"width\":0.5},\"pattern\":{\"fillmode\":\"overlay\",\"size\":10,\"solidity\":0.2}},\"type\":\"bar\"}],\"scattergeo\":[{\"type\":\"scattergeo\",\"marker\":{\"colorbar\":{\"outlinewidth\":0,\"ticks\":\"\"}}}],\"scatterpolar\":[{\"type\":\"scatterpolar\",\"marker\":{\"colorbar\":{\"outlinewidth\":0,\"ticks\":\"\"}}}],\"histogram\":[{\"marker\":{\"pattern\":{\"fillmode\":\"overlay\",\"size\":10,\"solidity\":0.2}},\"type\":\"histogram\"}],\"scattergl\":[{\"type\":\"scattergl\",\"marker\":{\"colorbar\":{\"outlinewidth\":0,\"ticks\":\"\"}}}],\"scatter3d\":[{\"type\":\"scatter3d\",\"line\":{\"colorbar\":{\"outlinewidth\":0,\"ticks\":\"\"}},\"marker\":{\"colorbar\":{\"outlinewidth\":0,\"ticks\":\"\"}}}],\"scattermapbox\":[{\"type\":\"scattermapbox\",\"marker\":{\"colorbar\":{\"outlinewidth\":0,\"ticks\":\"\"}}}],\"scatterternary\":[{\"type\":\"scatterternary\",\"marker\":{\"colorbar\":{\"outlinewidth\":0,\"ticks\":\"\"}}}],\"scattercarpet\":[{\"type\":\"scattercarpet\",\"marker\":{\"colorbar\":{\"outlinewidth\":0,\"ticks\":\"\"}}}],\"carpet\":[{\"aaxis\":{\"endlinecolor\":\"#2a3f5f\",\"gridcolor\":\"white\",\"linecolor\":\"white\",\"minorgridcolor\":\"white\",\"startlinecolor\":\"#2a3f5f\"},\"baxis\":{\"endlinecolor\":\"#2a3f5f\",\"gridcolor\":\"white\",\"linecolor\":\"white\",\"minorgridcolor\":\"white\",\"startlinecolor\":\"#2a3f5f\"},\"type\":\"carpet\"}],\"table\":[{\"cells\":{\"fill\":{\"color\":\"#EBF0F8\"},\"line\":{\"color\":\"white\"}},\"header\":{\"fill\":{\"color\":\"#C8D4E3\"},\"line\":{\"color\":\"white\"}},\"type\":\"table\"}],\"barpolar\":[{\"marker\":{\"line\":{\"color\":\"#E5ECF6\",\"width\":0.5},\"pattern\":{\"fillmode\":\"overlay\",\"size\":10,\"solidity\":0.2}},\"type\":\"barpolar\"}],\"pie\":[{\"automargin\":true,\"type\":\"pie\"}]},\"layout\":{\"autotypenumbers\":\"strict\",\"colorway\":[\"#636efa\",\"#EF553B\",\"#00cc96\",\"#ab63fa\",\"#FFA15A\",\"#19d3f3\",\"#FF6692\",\"#B6E880\",\"#FF97FF\",\"#FECB52\"],\"font\":{\"color\":\"#2a3f5f\"},\"hovermode\":\"closest\",\"hoverlabel\":{\"align\":\"left\"},\"paper_bgcolor\":\"white\",\"plot_bgcolor\":\"#E5ECF6\",\"polar\":{\"bgcolor\":\"#E5ECF6\",\"angularaxis\":{\"gridcolor\":\"white\",\"linecolor\":\"white\",\"ticks\":\"\"},\"radialaxis\":{\"gridcolor\":\"white\",\"linecolor\":\"white\",\"ticks\":\"\"}},\"ternary\":{\"bgcolor\":\"#E5ECF6\",\"aaxis\":{\"gridcolor\":\"white\",\"linecolor\":\"white\",\"ticks\":\"\"},\"baxis\":{\"gridcolor\":\"white\",\"linecolor\":\"white\",\"ticks\":\"\"},\"caxis\":{\"gridcolor\":\"white\",\"linecolor\":\"white\",\"ticks\":\"\"}},\"coloraxis\":{\"colorbar\":{\"outlinewidth\":0,\"ticks\":\"\"}},\"colorscale\":{\"sequential\":[[0.0,\"#0d0887\"],[0.1111111111111111,\"#46039f\"],[0.2222222222222222,\"#7201a8\"],[0.3333333333333333,\"#9c179e\"],[0.4444444444444444,\"#bd3786\"],[0.5555555555555556,\"#d8576b\"],[0.6666666666666666,\"#ed7953\"],[0.7777777777777778,\"#fb9f3a\"],[0.8888888888888888,\"#fdca26\"],[1.0,\"#f0f921\"]],\"sequentialminus\":[[0.0,\"#0d0887\"],[0.1111111111111111,\"#46039f\"],[0.2222222222222222,\"#7201a8\"],[0.3333333333333333,\"#9c179e\"],[0.4444444444444444,\"#bd3786\"],[0.5555555555555556,\"#d8576b\"],[0.6666666666666666,\"#ed7953\"],[0.7777777777777778,\"#fb9f3a\"],[0.8888888888888888,\"#fdca26\"],[1.0,\"#f0f921\"]],\"diverging\":[[0,\"#8e0152\"],[0.1,\"#c51b7d\"],[0.2,\"#de77ae\"],[0.3,\"#f1b6da\"],[0.4,\"#fde0ef\"],[0.5,\"#f7f7f7\"],[0.6,\"#e6f5d0\"],[0.7,\"#b8e186\"],[0.8,\"#7fbc41\"],[0.9,\"#4d9221\"],[1,\"#276419\"]]},\"xaxis\":{\"gridcolor\":\"white\",\"linecolor\":\"white\",\"ticks\":\"\",\"title\":{\"standoff\":15},\"zerolinecolor\":\"white\",\"automargin\":true,\"zerolinewidth\":2},\"yaxis\":{\"gridcolor\":\"white\",\"linecolor\":\"white\",\"ticks\":\"\",\"title\":{\"standoff\":15},\"zerolinecolor\":\"white\",\"automargin\":true,\"zerolinewidth\":2},\"scene\":{\"xaxis\":{\"backgroundcolor\":\"#E5ECF6\",\"gridcolor\":\"white\",\"linecolor\":\"white\",\"showbackground\":true,\"ticks\":\"\",\"zerolinecolor\":\"white\",\"gridwidth\":2},\"yaxis\":{\"backgroundcolor\":\"#E5ECF6\",\"gridcolor\":\"white\",\"linecolor\":\"white\",\"showbackground\":true,\"ticks\":\"\",\"zerolinecolor\":\"white\",\"gridwidth\":2},\"zaxis\":{\"backgroundcolor\":\"#E5ECF6\",\"gridcolor\":\"white\",\"linecolor\":\"white\",\"showbackground\":true,\"ticks\":\"\",\"zerolinecolor\":\"white\",\"gridwidth\":2}},\"shapedefaults\":{\"line\":{\"color\":\"#2a3f5f\"}},\"annotationdefaults\":{\"arrowcolor\":\"#2a3f5f\",\"arrowhead\":0,\"arrowwidth\":1},\"geo\":{\"bgcolor\":\"white\",\"landcolor\":\"#E5ECF6\",\"subunitcolor\":\"white\",\"showland\":true,\"showlakes\":true,\"lakecolor\":\"white\"},\"title\":{\"x\":0.05},\"mapbox\":{\"style\":\"light\"}}},\"title\":{\"text\":\"mapa de localizaciones potenciales y clientes\"},\"autosize\":false,\"width\":800,\"height\":600},                        {\"responsive\": true}                    ).then(function(){\n",
              "                            \n",
              "var gd = document.getElementById('d0fbf19b-6eda-4271-8ade-08925126fd1b');\n",
              "var x = new MutationObserver(function (mutations, observer) {{\n",
              "        var display = window.getComputedStyle(gd).display;\n",
              "        if (!display || display === 'none') {{\n",
              "            console.log([gd, 'removed!']);\n",
              "            Plotly.purge(gd);\n",
              "            observer.disconnect();\n",
              "        }}\n",
              "}});\n",
              "\n",
              "// Listen for the removal of the full notebook cells\n",
              "var notebookContainer = gd.closest('#notebook-container');\n",
              "if (notebookContainer) {{\n",
              "    x.observe(notebookContainer, {childList: true});\n",
              "}}\n",
              "\n",
              "// Listen for the clearing of the current output cell\n",
              "var outputEl = gd.closest('.output');\n",
              "if (outputEl) {{\n",
              "    x.observe(outputEl, {childList: true});\n",
              "}}\n",
              "\n",
              "                        })                };                            </script>        </div>\n",
              "</body>\n",
              "</html>"
            ]
          },
          "metadata": {}
        }
      ],
      "source": [
        "# Dibujemos ambos datos\n",
        "fig = go.Figure()\n",
        "\n",
        "fig.add_trace(go.Scatter(\n",
        "    x=localizacionesPotenciales['x'],\n",
        "    y=localizacionesPotenciales['y'],\n",
        "    mode='markers',\n",
        "    name='localizacionesPotenciales',\n",
        "    marker=dict(color='black', size=12),  # Puntos rojos de tamaño 12\n",
        "    text=localizacionesPotenciales['index']  # Veamos el texto de cada punto\n",
        "))\n",
        "fig.add_trace(go.Scatter(\n",
        "    x=clientes['x'],\n",
        "    y=clientes['y'],\n",
        "    mode='markers',\n",
        "    name='clientes',\n",
        "    marker=dict(color='green', size=8),  # Puntos verdes de tamaño 10\n",
        "    text=clientes['name']  # eamos el texto de cada punto\n",
        "))\n",
        "\n",
        "#cambiamos el tamaño por defecto\n",
        "fig.update_layout(title='mapa de localizaciones potenciales y clientes')\n",
        "fig.update_layout(\n",
        "    autosize=False,\n",
        "    width=800,\n",
        "    height=600,\n",
        ")\n",
        "fig.show()"
      ]
    },
    {
      "cell_type": "code",
      "execution_count": null,
      "id": "3e00a832",
      "metadata": {
        "colab": {
          "base_uri": "https://localhost:8080/"
        },
        "id": "3e00a832",
        "outputId": "240e7b30-afb4-4e6d-c31a-6950f8ac4613"
      },
      "outputs": [
        {
          "output_type": "stream",
          "name": "stdout",
          "text": [
            "[[32, 33, 50, 45, 22, 20, 6, 0, 0, 0, 0, 0, 32], [33, 23, 18, 12, 0, 0, 0, 0, 0, 0, 0, 0, 3], [8, 8, 29, 24, 10, 9, 0, 0, 0, 0, 0, 0, 16], [23, 19, 15, 11, 0, 0, 0, 0, 0, 0, 0, 0, 4], [8, 25, 5, 0, 0, 0, 0, 0, 2, 0, 0, 0, 0], [15, 16, 20, 14, 14, 13, 4, 0, 5, 0, 0, 0, 20], [13, 14, 49, 39, 16, 14, 0, 0, 1, 0, 0, 0, 26], [0, 0, 3, 4, 1, 2, 0, 0, 0, 0, 0, 0, 2], [0, 0, 0, 3, 16, 31, 11, 0, 0, 0, 0, 11, 19], [0, 9, 0, 0, 4, 0, 0, 4, 12, 0, 0, 0, 0], [0, 9, 0, 0, 3, 0, 5, 16, 30, 0, 0, 0, 0], [0, 0, 0, 0, 30, 14, 32, 50, 26, 10, 4, 0, 19], [0, 0, 0, 0, 3, 11, 16, 0, 0, 33, 40, 26, 1], [0, 0, 0, 0, 3, 5, 4, 0, 0, 4, 3, 4, 3], [0, 0, 0, 0, 13, 7, 21, 11, 0, 23, 20, 0, 8], [30, 19, 8, 3, 0, 0, 0, 0, 0, 0, 0, 0, 0]]\n"
          ]
        }
      ],
      "source": [
        "# la demanda capturada se encuentra en un dataframe pero es más fácil de manejar una matriz\n",
        "demanda = [[0 for i in range(len(localizacionesPotenciales))] for j in range(len(clientes))] #una fila para cada cliente y una columna para cada localización\n",
        "for index, row in demandaCapturada.iterrows(): #iteramos las filas del dataframe\n",
        "    demand_index = clientes[clientes['index'] == row['demand_node_index']].index[0] #mapeamos el nombre del cliente a su índice en el dataframe clientes\n",
        "    truck_index = localizacionesPotenciales[localizacionesPotenciales['index'] == row['truck_node_index']].index[0]  #mapeamos el nombre de la localización a su índice en el dataframe localizacionesPotenciales\n",
        "    demanda[demand_index][truck_index] = row['scaled_demand'] #guardamos la demanda capturada en la matriz\n",
        "print(demanda)"
      ]
    },
    {
      "cell_type": "code",
      "execution_count": null,
      "id": "de4de737",
      "metadata": {
        "colab": {
          "base_uri": "https://localhost:8080/"
        },
        "id": "de4de737",
        "outputId": "7a5118fe-148a-4311-b273-15ae1402ef4e"
      },
      "outputs": [
        {
          "output_type": "stream",
          "name": "stdout",
          "text": [
            "|     | demand_node_index   | truck_node_index   |   distance |   scaled_demand |\n",
            "|----:|:--------------------|:-------------------|-----------:|----------------:|\n",
            "| 193 | demand49            | truck49            |   308.82   |               0 |\n",
            "| 194 | demand49            | truck44            |   237.979  |               8 |\n",
            "| 195 | demand52            | truck9             |    68.3216 |              30 |\n",
            "| 196 | demand52            | truck14            |   175.68   |              19 |\n",
            "| 197 | demand52            | truck17            |   245.685  |               8 |\n",
            "| 198 | demand52            | truck18            |   282.642  |               3 |\n",
            "| 199 | demand52            | truck29            |   374.155  |               0 |\n",
            "| 200 | demand52            | truck30            |   381.678  |               0 |\n",
            "| 201 | demand52            | truck36            |   439.342  |               0 |\n",
            "| 202 | demand52            | truck37            |   469.174  |               0 |\n",
            "| 203 | demand52            | truck38            |   373.369  |               0 |\n",
            "| 204 | demand52            | truck42            |   524.207  |               0 |\n",
            "| 205 | demand52            | truck43            |   549.795  |               0 |\n",
            "| 206 | demand52            | truck49            |   636.429  |               0 |\n",
            "| 207 | demand52            | truck44            |   334.817  |               0 |\n"
          ]
        }
      ],
      "source": [
        "print(demandaCapturada.tail(15).to_markdown()) #verifiquemos la matriz"
      ]
    },
    {
      "cell_type": "markdown",
      "id": "21620bc6",
      "metadata": {
        "id": "21620bc6"
      },
      "source": [
        "## Parte 2. Creemos el modelo"
      ]
    },
    {
      "cell_type": "code",
      "execution_count": null,
      "id": "7a93f4c9",
      "metadata": {
        "colab": {
          "base_uri": "https://localhost:8080/"
        },
        "id": "7a93f4c9",
        "outputId": "276f03e1-76bd-447c-a024-fbb2a66a237a",
        "collapsed": true
      },
      "outputs": [
        {
          "output_type": "stream",
          "name": "stdout",
          "text": [
            "Collecting mip\n",
            "  Downloading mip-1.15.0-py3-none-any.whl.metadata (21 kB)\n",
            "Collecting cffi==1.15.* (from mip)\n",
            "  Downloading cffi-1.15.1-cp311-cp311-manylinux_2_17_x86_64.manylinux2014_x86_64.whl.metadata (1.1 kB)\n",
            "Requirement already satisfied: pycparser in /usr/local/lib/python3.11/dist-packages (from cffi==1.15.*->mip) (2.22)\n",
            "Downloading mip-1.15.0-py3-none-any.whl (15.3 MB)\n",
            "\u001b[2K   \u001b[90m━━━━━━━━━━━━━━━━━━━━━━━━━━━━━━━━━━━━━━━━\u001b[0m \u001b[32m15.3/15.3 MB\u001b[0m \u001b[31m36.8 MB/s\u001b[0m eta \u001b[36m0:00:00\u001b[0m\n",
            "\u001b[?25hDownloading cffi-1.15.1-cp311-cp311-manylinux_2_17_x86_64.manylinux2014_x86_64.whl (462 kB)\n",
            "\u001b[2K   \u001b[90m━━━━━━━━━━━━━━━━━━━━━━━━━━━━━━━━━━━━━━━━\u001b[0m \u001b[32m462.6/462.6 kB\u001b[0m \u001b[31m9.7 MB/s\u001b[0m eta \u001b[36m0:00:00\u001b[0m\n",
            "\u001b[?25hInstalling collected packages: cffi, mip\n",
            "  Attempting uninstall: cffi\n",
            "    Found existing installation: cffi 1.17.1\n",
            "    Uninstalling cffi-1.17.1:\n",
            "      Successfully uninstalled cffi-1.17.1\n",
            "\u001b[31mERROR: pip's dependency resolver does not currently take into account all the packages that are installed. This behaviour is the source of the following dependency conflicts.\n",
            "pygit2 1.17.0 requires cffi>=1.17.0, but you have cffi 1.15.1 which is incompatible.\u001b[0m\u001b[31m\n",
            "\u001b[0mSuccessfully installed cffi-1.15.1 mip-1.15.0\n"
          ]
        }
      ],
      "source": [
        "!pip install mip"
      ]
    },
    {
      "cell_type": "code",
      "execution_count": null,
      "id": "71a6b512",
      "metadata": {
        "id": "71a6b512"
      },
      "outputs": [],
      "source": [
        "from mip import * #importamos la librería de optimización"
      ]
    },
    {
      "cell_type": "markdown",
      "id": "91276413",
      "metadata": {
        "id": "91276413"
      },
      "source": [
        "$y_j$: ¿abro la localización $j$?\n",
        "\n",
        "$x_{ij}$: ¿el cliente $i$ va a la localización $j$?"
      ]
    },
    {
      "cell_type": "code",
      "execution_count": null,
      "id": "9d53cbf3",
      "metadata": {
        "id": "9d53cbf3"
      },
      "outputs": [],
      "source": [
        "m = Model(solver_name=CBC) #creamos el modelo\n",
        "y = [m.add_var(var_type=BINARY) for j in range(len(localizacionesPotenciales))] #una variable y para dentificar si se abre o no una localización\n",
        "x = [[m.add_var(var_type=BINARY) for j in range(len(localizacionesPotenciales))] for i in range(len(clientes))] #una variable x para identificar si un cliente es asignado a una localización"
      ]
    },
    {
      "cell_type": "markdown",
      "id": "84fae94d",
      "metadata": {
        "id": "84fae94d"
      },
      "source": [
        "Lo más difícil de entender (a mi parecer) es\n",
        "\n",
        "```\n",
        "        range(len(localizacionesPontenciales))\n",
        "```\n",
        "\n",
        "ó\n",
        "\n",
        "```\n",
        "        range(len(clientes))\n",
        "```\n",
        "\n",
        "La idea es que debemos crear en python un identificador equivalente a:\n",
        "\n",
        "$$ \\forall i \\in C$$"
      ]
    },
    {
      "cell_type": "code",
      "execution_count": null,
      "id": "303c02a2",
      "metadata": {
        "id": "303c02a2"
      },
      "outputs": [],
      "source": [
        "rangoLocalizaciones = range(len(localizacionesPotenciales))\n",
        "rangoClientes = range(len(clientes))"
      ]
    },
    {
      "cell_type": "markdown",
      "id": "09caf350",
      "metadata": {
        "id": "09caf350"
      },
      "source": [
        "Objetivo:\n",
        "\n",
        "$$ \\max ~(pv-cv) \\cdot \\sum_{i,j} d_{ij} x_{ij} - cf \\cdot \\sum_{j} y_j $$\n",
        "\n",
        "$i$ y $j$ son contadores"
      ]
    },
    {
      "cell_type": "code",
      "execution_count": null,
      "id": "451fd274",
      "metadata": {
        "id": "451fd274"
      },
      "outputs": [],
      "source": [
        "m.objective = maximize(\n",
        "    (pv-cv) * xsum(demanda[i][j]*x[i][j] for i in rangoClientes for j in rangoLocalizaciones)\n",
        "    - cf * xsum(y[i] for i in rangoLocalizaciones))"
      ]
    },
    {
      "cell_type": "markdown",
      "id": "78be80c6",
      "metadata": {
        "id": "78be80c6"
      },
      "source": [
        "Restricciones:\n",
        "\n",
        "No podemos asignar a un cliente a una localización cerrada (implementado como ``si una localización está abierta podemos asignarle un cliente, pero en caso contrario no podemos asignarle al cliente'')\n",
        "\n",
        "$$ x_{ij} \\leq y_j\\qquad \\forall ~ i,j $$"
      ]
    },
    {
      "cell_type": "code",
      "execution_count": null,
      "id": "dccf281e",
      "metadata": {
        "id": "dccf281e"
      },
      "outputs": [],
      "source": [
        "for i in rangoClientes:\n",
        "    for j in rangoLocalizaciones:\n",
        "        m += x[i][j] <= y[j]\n"
      ]
    },
    {
      "cell_type": "code",
      "source": [
        "for i in rangoClientes:\n",
        "    for j in rangoLocalizaciones:\n",
        "        m += (x[i][j] <= y[j])"
      ],
      "metadata": {
        "id": "QhabPfDK5oDa"
      },
      "id": "QhabPfDK5oDa",
      "execution_count": null,
      "outputs": []
    },
    {
      "cell_type": "markdown",
      "id": "253c14a3",
      "metadata": {
        "id": "253c14a3"
      },
      "source": [
        "Los clientes pueden asignarse como mucho a una localización\n",
        "\n",
        "$$ \\sum_{j} x_{ij} \\leq 1 \\qquad \\forall ~ i$$"
      ]
    },
    {
      "cell_type": "code",
      "execution_count": null,
      "id": "6b258af1",
      "metadata": {
        "id": "6b258af1"
      },
      "outputs": [],
      "source": [
        "for i in rangoClientes:\n",
        "    m += xsum(x[i][j] for j in rangoLocalizaciones) <= 1"
      ]
    },
    {
      "cell_type": "markdown",
      "id": "5c5827b3",
      "metadata": {
        "id": "5c5827b3"
      },
      "source": [
        "Resolvamos e imprimemos la solución"
      ]
    },
    {
      "cell_type": "code",
      "execution_count": null,
      "id": "96dd474b",
      "metadata": {
        "colab": {
          "base_uri": "https://localhost:8080/"
        },
        "id": "96dd474b",
        "outputId": "28124e25-09e2-4e06-cc65-58fd4fc91c39"
      },
      "outputs": [
        {
          "output_type": "execute_result",
          "data": {
            "text/plain": [
              "<OptimizationStatus.OPTIMAL: 0>"
            ]
          },
          "metadata": {},
          "execution_count": 17
        }
      ],
      "source": [
        "# optimizing\n",
        "m.optimize()\n"
      ]
    },
    {
      "cell_type": "code",
      "execution_count": null,
      "id": "576b44ba",
      "metadata": {
        "colab": {
          "base_uri": "https://localhost:8080/"
        },
        "id": "576b44ba",
        "outputId": "e6ea699e-4f63-4b78-9e14-3058502638d4"
      },
      "outputs": [
        {
          "output_type": "stream",
          "name": "stdout",
          "text": [
            "945.0\n"
          ]
        }
      ],
      "source": [
        "print(m.objective_value)"
      ]
    },
    {
      "cell_type": "code",
      "execution_count": null,
      "id": "288ed27c",
      "metadata": {
        "colab": {
          "base_uri": "https://localhost:8080/"
        },
        "id": "288ed27c",
        "outputId": "6318e82c-af32-440b-ee30-61091e36aec6"
      },
      "outputs": [
        {
          "output_type": "stream",
          "name": "stdout",
          "text": [
            "localización 1 abierta\n",
            "localización 2 abierta\n",
            "localización 6 abierta\n",
            "cliente 0 -> localización 2 aporte 50\n",
            "cliente 1 -> localización 1 aporte 23\n",
            "cliente 2 -> localización 2 aporte 29\n",
            "cliente 3 -> localización 1 aporte 19\n",
            "cliente 4 -> localización 1 aporte 25\n",
            "cliente 5 -> localización 2 aporte 20\n",
            "cliente 6 -> localización 2 aporte 49\n",
            "cliente 7 -> localización 2 aporte 3\n",
            "cliente 8 -> localización 6 aporte 11\n",
            "cliente 9 -> localización 1 aporte 9\n",
            "cliente 10 -> localización 1 aporte 9\n",
            "cliente 11 -> localización 6 aporte 32\n",
            "cliente 12 -> localización 6 aporte 16\n",
            "cliente 13 -> localización 6 aporte 4\n",
            "cliente 14 -> localización 6 aporte 21\n",
            "cliente 15 -> localización 1 aporte 19\n"
          ]
        }
      ],
      "source": [
        "for j in rangoLocalizaciones:\n",
        "    if y[j].x > 0.99:\n",
        "        print(f\"localización {j} abierta\")\n",
        "for i in rangoClientes:\n",
        "    for j in rangoLocalizaciones:\n",
        "        if x[i][j].x > 0.99:\n",
        "            print(f\"cliente {i} -> localización {j} aporte {demanda[i][j]}\")"
      ]
    },
    {
      "cell_type": "markdown",
      "id": "53a735ff",
      "metadata": {
        "id": "53a735ff"
      },
      "source": [
        "## Parte 3. Representemos la solución"
      ]
    },
    {
      "cell_type": "code",
      "execution_count": null,
      "id": "36a9ab18",
      "metadata": {
        "id": "36a9ab18"
      },
      "outputs": [],
      "source": [
        "# create column opacity in localizacionesPotenciales with values equal to 0.5\n",
        "localizacionesPotenciales['opacity'] = 0.5\n",
        "localizacionesPotenciales['size'] = 10\n",
        "\n",
        "# set opacity to 1 for the selected locations\n",
        "for j in rangoLocalizaciones:\n",
        "    if y[j].x > 0.99:\n",
        "        localizacionesPotenciales.at[j, 'opacity'] = 1\n",
        "        localizacionesPotenciales.at[j, 'size'] = 18"
      ]
    },
    {
      "cell_type": "code",
      "execution_count": null,
      "id": "6d2936b1",
      "metadata": {
        "colab": {
          "base_uri": "https://localhost:8080/",
          "height": 617
        },
        "id": "6d2936b1",
        "outputId": "b4589311-8cf1-4b98-c068-bda6fe196526"
      },
      "outputs": [
        {
          "output_type": "display_data",
          "data": {
            "text/html": [
              "<html>\n",
              "<head><meta charset=\"utf-8\" /></head>\n",
              "<body>\n",
              "    <div>            <script src=\"https://cdnjs.cloudflare.com/ajax/libs/mathjax/2.7.5/MathJax.js?config=TeX-AMS-MML_SVG\"></script><script type=\"text/javascript\">if (window.MathJax && window.MathJax.Hub && window.MathJax.Hub.Config) {window.MathJax.Hub.Config({SVG: {font: \"STIX-Web\"}});}</script>                <script type=\"text/javascript\">window.PlotlyConfig = {MathJaxConfig: 'local'};</script>\n",
              "        <script charset=\"utf-8\" src=\"https://cdn.plot.ly/plotly-2.35.2.min.js\"></script>                <div id=\"5fb37d45-86b9-4dfd-9011-b70c0d249dd3\" class=\"plotly-graph-div\" style=\"height:600px; width:600px;\"></div>            <script type=\"text/javascript\">                                    window.PLOTLYENV=window.PLOTLYENV || {};                                    if (document.getElementById(\"5fb37d45-86b9-4dfd-9011-b70c0d249dd3\")) {                    Plotly.newPlot(                        \"5fb37d45-86b9-4dfd-9011-b70c0d249dd3\",                        [{\"line\":{\"color\":\"green\",\"width\":2},\"mode\":\"lines\",\"x\":[310.62001227747083,284.8385512584408],\"y\":[222.0200333889817,188.79465776293824],\"type\":\"scatter\"},{\"line\":{\"color\":\"green\",\"width\":2},\"mode\":\"lines\",\"x\":[150.65070595457337,256.57213014119094],\"y\":[222.6410684474124,158.0534223706177],\"type\":\"scatter\"},{\"line\":{\"color\":\"green\",\"width\":2},\"mode\":\"lines\",\"x\":[310.62001227747083,315.2793124616329],\"y\":[222.0200333889817,163.64273789649417],\"type\":\"scatter\"},{\"line\":{\"color\":\"green\",\"width\":2},\"mode\":\"lines\",\"x\":[150.65070595457337,213.70656844689995],\"y\":[222.6410684474124,160.53756260434056],\"type\":\"scatter\"},{\"line\":{\"color\":\"green\",\"width\":2},\"mode\":\"lines\",\"x\":[150.65070595457337,129.21792510742787],\"y\":[222.6410684474124,168.6110183639399],\"type\":\"scatter\"},{\"line\":{\"color\":\"green\",\"width\":2},\"mode\":\"lines\",\"x\":[310.62001227747083,239.48802946593003],\"y\":[222.0200333889817,246.8614357262104],\"type\":\"scatter\"},{\"line\":{\"color\":\"green\",\"width\":2},\"mode\":\"lines\",\"x\":[310.62001227747083,295.71025168815225],\"y\":[222.0200333889817,240.96160267111856],\"type\":\"scatter\"},{\"line\":{\"color\":\"green\",\"width\":2},\"mode\":\"lines\",\"x\":[310.62001227747083,395.4192756292204],\"y\":[222.0200333889817,220.77796327212025],\"type\":\"scatter\"},{\"line\":{\"color\":\"green\",\"width\":2},\"mode\":\"lines\",\"x\":[303.16513198281154,460.96009821976673],\"y\":[414.8514190317196,302.13355592654426],\"type\":\"scatter\"},{\"line\":{\"color\":\"green\",\"width\":2},\"mode\":\"lines\",\"x\":[150.65070595457337,169.90914671577656],\"y\":[222.6410684474124,306.17028380634395],\"type\":\"scatter\"},{\"line\":{\"color\":\"green\",\"width\":2},\"mode\":\"lines\",\"x\":[150.65070595457337,72.68508287292818],\"y\":[222.6410684474124,359.889816360601],\"type\":\"scatter\"},{\"line\":{\"color\":\"green\",\"width\":2},\"mode\":\"lines\",\"x\":[303.16513198281154,267.1332105586249],\"y\":[414.8514190317196,362.0634390651085],\"type\":\"scatter\"},{\"line\":{\"color\":\"green\",\"width\":2},\"mode\":\"lines\",\"x\":[303.16513198281154,375.2289748311848],\"y\":[414.8514190317196,491.23873121869786],\"type\":\"scatter\"},{\"line\":{\"color\":\"green\",\"width\":2},\"mode\":\"lines\",\"x\":[303.16513198281154,375.2289748311848],\"y\":[414.8514190317196,397.4624373956594],\"type\":\"scatter\"},{\"line\":{\"color\":\"green\",\"width\":2},\"mode\":\"lines\",\"x\":[303.16513198281154,241.9729895641498],\"y\":[414.8514190317196,421.68280467445743],\"type\":\"scatter\"},{\"line\":{\"color\":\"green\",\"width\":2},\"mode\":\"lines\",\"x\":[150.65070595457337,217.12338858195213],\"y\":[222.6410684474124,104.02337228714524],\"type\":\"scatter\"},{\"marker\":{\"color\":\"black\",\"opacity\":[0.5,1.0,1.0,0.5,0.5,0.5,1.0,0.5,0.5,0.5,0.5,0.5,0.5],\"size\":[10,18,18,10,10,10,18,10,10,10,10,10,10]},\"mode\":\"markers\",\"name\":\"localizacionesPotenciales\",\"text\":[\"truck9\",\"truck14\",\"truck17\",\"truck18\",\"truck29\",\"truck30\",\"truck36\",\"truck37\",\"truck38\",\"truck42\",\"truck43\",\"truck49\",\"truck44\"],\"textposition\":\"top center\",\"x\":[218.6764886433395,150.65070595457337,310.62001227747083,364.6678944137508,296.0208717004297,332.0527931246164,303.16513198281154,209.35788827501537,112.44444444444444,276.1411909146716,290.42971147943524,492.6433394720688,315.5899324739104],\"y\":[145.63272120200335,222.6410684474124,222.0200333889817,222.6410684474124,350.8848080133556,352.12687813021705,414.8514190317196,398.3939899833055,397.7729549248748,476.95492487479135,506.7646076794658,479.7495826377296,295.92320534223705],\"type\":\"scatter\"},{\"marker\":{\"color\":\"green\",\"size\":8},\"mode\":\"markers\",\"name\":\"clientes\",\"text\":[\"Reinforcement Learning Puppy Training\",\"KKT Air Conditioning\",\"Linear Regression Psychology Services\",\"George's Basic Diet Solutions\",\"Rothberg Tower\",\"Complex Complex\",\"Gurobi Polytope\",\"Anna Konda's Pet Shop\",\"Fourier Transform Towers\",\"RINS Laundromat\",\"Edgeworth's Newsvendors\",\"Interior Point Decorating\",\"Land & Harcourt's B&B\",\"Logistic Regression Couriers\",\"Big-M Market\",\"Cutting Stock Atelier\"],\"x\":[284.8385512584408,256.57213014119094,315.2793124616329,213.70656844689995,129.21792510742787,239.48802946593003,295.71025168815225,395.4192756292204,460.96009821976673,169.90914671577656,72.68508287292818,267.1332105586249,375.2289748311848,375.2289748311848,241.9729895641498,217.12338858195213],\"y\":[188.79465776293824,158.0534223706177,163.64273789649417,160.53756260434056,168.6110183639399,246.8614357262104,240.96160267111856,220.77796327212025,302.13355592654426,306.17028380634395,359.889816360601,362.0634390651085,491.23873121869786,397.4624373956594,421.68280467445743,104.02337228714524],\"type\":\"scatter\"}],                        {\"template\":{\"data\":{\"histogram2dcontour\":[{\"type\":\"histogram2dcontour\",\"colorbar\":{\"outlinewidth\":0,\"ticks\":\"\"},\"colorscale\":[[0.0,\"#0d0887\"],[0.1111111111111111,\"#46039f\"],[0.2222222222222222,\"#7201a8\"],[0.3333333333333333,\"#9c179e\"],[0.4444444444444444,\"#bd3786\"],[0.5555555555555556,\"#d8576b\"],[0.6666666666666666,\"#ed7953\"],[0.7777777777777778,\"#fb9f3a\"],[0.8888888888888888,\"#fdca26\"],[1.0,\"#f0f921\"]]}],\"choropleth\":[{\"type\":\"choropleth\",\"colorbar\":{\"outlinewidth\":0,\"ticks\":\"\"}}],\"histogram2d\":[{\"type\":\"histogram2d\",\"colorbar\":{\"outlinewidth\":0,\"ticks\":\"\"},\"colorscale\":[[0.0,\"#0d0887\"],[0.1111111111111111,\"#46039f\"],[0.2222222222222222,\"#7201a8\"],[0.3333333333333333,\"#9c179e\"],[0.4444444444444444,\"#bd3786\"],[0.5555555555555556,\"#d8576b\"],[0.6666666666666666,\"#ed7953\"],[0.7777777777777778,\"#fb9f3a\"],[0.8888888888888888,\"#fdca26\"],[1.0,\"#f0f921\"]]}],\"heatmap\":[{\"type\":\"heatmap\",\"colorbar\":{\"outlinewidth\":0,\"ticks\":\"\"},\"colorscale\":[[0.0,\"#0d0887\"],[0.1111111111111111,\"#46039f\"],[0.2222222222222222,\"#7201a8\"],[0.3333333333333333,\"#9c179e\"],[0.4444444444444444,\"#bd3786\"],[0.5555555555555556,\"#d8576b\"],[0.6666666666666666,\"#ed7953\"],[0.7777777777777778,\"#fb9f3a\"],[0.8888888888888888,\"#fdca26\"],[1.0,\"#f0f921\"]]}],\"heatmapgl\":[{\"type\":\"heatmapgl\",\"colorbar\":{\"outlinewidth\":0,\"ticks\":\"\"},\"colorscale\":[[0.0,\"#0d0887\"],[0.1111111111111111,\"#46039f\"],[0.2222222222222222,\"#7201a8\"],[0.3333333333333333,\"#9c179e\"],[0.4444444444444444,\"#bd3786\"],[0.5555555555555556,\"#d8576b\"],[0.6666666666666666,\"#ed7953\"],[0.7777777777777778,\"#fb9f3a\"],[0.8888888888888888,\"#fdca26\"],[1.0,\"#f0f921\"]]}],\"contourcarpet\":[{\"type\":\"contourcarpet\",\"colorbar\":{\"outlinewidth\":0,\"ticks\":\"\"}}],\"contour\":[{\"type\":\"contour\",\"colorbar\":{\"outlinewidth\":0,\"ticks\":\"\"},\"colorscale\":[[0.0,\"#0d0887\"],[0.1111111111111111,\"#46039f\"],[0.2222222222222222,\"#7201a8\"],[0.3333333333333333,\"#9c179e\"],[0.4444444444444444,\"#bd3786\"],[0.5555555555555556,\"#d8576b\"],[0.6666666666666666,\"#ed7953\"],[0.7777777777777778,\"#fb9f3a\"],[0.8888888888888888,\"#fdca26\"],[1.0,\"#f0f921\"]]}],\"surface\":[{\"type\":\"surface\",\"colorbar\":{\"outlinewidth\":0,\"ticks\":\"\"},\"colorscale\":[[0.0,\"#0d0887\"],[0.1111111111111111,\"#46039f\"],[0.2222222222222222,\"#7201a8\"],[0.3333333333333333,\"#9c179e\"],[0.4444444444444444,\"#bd3786\"],[0.5555555555555556,\"#d8576b\"],[0.6666666666666666,\"#ed7953\"],[0.7777777777777778,\"#fb9f3a\"],[0.8888888888888888,\"#fdca26\"],[1.0,\"#f0f921\"]]}],\"mesh3d\":[{\"type\":\"mesh3d\",\"colorbar\":{\"outlinewidth\":0,\"ticks\":\"\"}}],\"scatter\":[{\"fillpattern\":{\"fillmode\":\"overlay\",\"size\":10,\"solidity\":0.2},\"type\":\"scatter\"}],\"parcoords\":[{\"type\":\"parcoords\",\"line\":{\"colorbar\":{\"outlinewidth\":0,\"ticks\":\"\"}}}],\"scatterpolargl\":[{\"type\":\"scatterpolargl\",\"marker\":{\"colorbar\":{\"outlinewidth\":0,\"ticks\":\"\"}}}],\"bar\":[{\"error_x\":{\"color\":\"#2a3f5f\"},\"error_y\":{\"color\":\"#2a3f5f\"},\"marker\":{\"line\":{\"color\":\"#E5ECF6\",\"width\":0.5},\"pattern\":{\"fillmode\":\"overlay\",\"size\":10,\"solidity\":0.2}},\"type\":\"bar\"}],\"scattergeo\":[{\"type\":\"scattergeo\",\"marker\":{\"colorbar\":{\"outlinewidth\":0,\"ticks\":\"\"}}}],\"scatterpolar\":[{\"type\":\"scatterpolar\",\"marker\":{\"colorbar\":{\"outlinewidth\":0,\"ticks\":\"\"}}}],\"histogram\":[{\"marker\":{\"pattern\":{\"fillmode\":\"overlay\",\"size\":10,\"solidity\":0.2}},\"type\":\"histogram\"}],\"scattergl\":[{\"type\":\"scattergl\",\"marker\":{\"colorbar\":{\"outlinewidth\":0,\"ticks\":\"\"}}}],\"scatter3d\":[{\"type\":\"scatter3d\",\"line\":{\"colorbar\":{\"outlinewidth\":0,\"ticks\":\"\"}},\"marker\":{\"colorbar\":{\"outlinewidth\":0,\"ticks\":\"\"}}}],\"scattermapbox\":[{\"type\":\"scattermapbox\",\"marker\":{\"colorbar\":{\"outlinewidth\":0,\"ticks\":\"\"}}}],\"scatterternary\":[{\"type\":\"scatterternary\",\"marker\":{\"colorbar\":{\"outlinewidth\":0,\"ticks\":\"\"}}}],\"scattercarpet\":[{\"type\":\"scattercarpet\",\"marker\":{\"colorbar\":{\"outlinewidth\":0,\"ticks\":\"\"}}}],\"carpet\":[{\"aaxis\":{\"endlinecolor\":\"#2a3f5f\",\"gridcolor\":\"white\",\"linecolor\":\"white\",\"minorgridcolor\":\"white\",\"startlinecolor\":\"#2a3f5f\"},\"baxis\":{\"endlinecolor\":\"#2a3f5f\",\"gridcolor\":\"white\",\"linecolor\":\"white\",\"minorgridcolor\":\"white\",\"startlinecolor\":\"#2a3f5f\"},\"type\":\"carpet\"}],\"table\":[{\"cells\":{\"fill\":{\"color\":\"#EBF0F8\"},\"line\":{\"color\":\"white\"}},\"header\":{\"fill\":{\"color\":\"#C8D4E3\"},\"line\":{\"color\":\"white\"}},\"type\":\"table\"}],\"barpolar\":[{\"marker\":{\"line\":{\"color\":\"#E5ECF6\",\"width\":0.5},\"pattern\":{\"fillmode\":\"overlay\",\"size\":10,\"solidity\":0.2}},\"type\":\"barpolar\"}],\"pie\":[{\"automargin\":true,\"type\":\"pie\"}]},\"layout\":{\"autotypenumbers\":\"strict\",\"colorway\":[\"#636efa\",\"#EF553B\",\"#00cc96\",\"#ab63fa\",\"#FFA15A\",\"#19d3f3\",\"#FF6692\",\"#B6E880\",\"#FF97FF\",\"#FECB52\"],\"font\":{\"color\":\"#2a3f5f\"},\"hovermode\":\"closest\",\"hoverlabel\":{\"align\":\"left\"},\"paper_bgcolor\":\"white\",\"plot_bgcolor\":\"#E5ECF6\",\"polar\":{\"bgcolor\":\"#E5ECF6\",\"angularaxis\":{\"gridcolor\":\"white\",\"linecolor\":\"white\",\"ticks\":\"\"},\"radialaxis\":{\"gridcolor\":\"white\",\"linecolor\":\"white\",\"ticks\":\"\"}},\"ternary\":{\"bgcolor\":\"#E5ECF6\",\"aaxis\":{\"gridcolor\":\"white\",\"linecolor\":\"white\",\"ticks\":\"\"},\"baxis\":{\"gridcolor\":\"white\",\"linecolor\":\"white\",\"ticks\":\"\"},\"caxis\":{\"gridcolor\":\"white\",\"linecolor\":\"white\",\"ticks\":\"\"}},\"coloraxis\":{\"colorbar\":{\"outlinewidth\":0,\"ticks\":\"\"}},\"colorscale\":{\"sequential\":[[0.0,\"#0d0887\"],[0.1111111111111111,\"#46039f\"],[0.2222222222222222,\"#7201a8\"],[0.3333333333333333,\"#9c179e\"],[0.4444444444444444,\"#bd3786\"],[0.5555555555555556,\"#d8576b\"],[0.6666666666666666,\"#ed7953\"],[0.7777777777777778,\"#fb9f3a\"],[0.8888888888888888,\"#fdca26\"],[1.0,\"#f0f921\"]],\"sequentialminus\":[[0.0,\"#0d0887\"],[0.1111111111111111,\"#46039f\"],[0.2222222222222222,\"#7201a8\"],[0.3333333333333333,\"#9c179e\"],[0.4444444444444444,\"#bd3786\"],[0.5555555555555556,\"#d8576b\"],[0.6666666666666666,\"#ed7953\"],[0.7777777777777778,\"#fb9f3a\"],[0.8888888888888888,\"#fdca26\"],[1.0,\"#f0f921\"]],\"diverging\":[[0,\"#8e0152\"],[0.1,\"#c51b7d\"],[0.2,\"#de77ae\"],[0.3,\"#f1b6da\"],[0.4,\"#fde0ef\"],[0.5,\"#f7f7f7\"],[0.6,\"#e6f5d0\"],[0.7,\"#b8e186\"],[0.8,\"#7fbc41\"],[0.9,\"#4d9221\"],[1,\"#276419\"]]},\"xaxis\":{\"gridcolor\":\"white\",\"linecolor\":\"white\",\"ticks\":\"\",\"title\":{\"standoff\":15},\"zerolinecolor\":\"white\",\"automargin\":true,\"zerolinewidth\":2},\"yaxis\":{\"gridcolor\":\"white\",\"linecolor\":\"white\",\"ticks\":\"\",\"title\":{\"standoff\":15},\"zerolinecolor\":\"white\",\"automargin\":true,\"zerolinewidth\":2},\"scene\":{\"xaxis\":{\"backgroundcolor\":\"#E5ECF6\",\"gridcolor\":\"white\",\"linecolor\":\"white\",\"showbackground\":true,\"ticks\":\"\",\"zerolinecolor\":\"white\",\"gridwidth\":2},\"yaxis\":{\"backgroundcolor\":\"#E5ECF6\",\"gridcolor\":\"white\",\"linecolor\":\"white\",\"showbackground\":true,\"ticks\":\"\",\"zerolinecolor\":\"white\",\"gridwidth\":2},\"zaxis\":{\"backgroundcolor\":\"#E5ECF6\",\"gridcolor\":\"white\",\"linecolor\":\"white\",\"showbackground\":true,\"ticks\":\"\",\"zerolinecolor\":\"white\",\"gridwidth\":2}},\"shapedefaults\":{\"line\":{\"color\":\"#2a3f5f\"}},\"annotationdefaults\":{\"arrowcolor\":\"#2a3f5f\",\"arrowhead\":0,\"arrowwidth\":1},\"geo\":{\"bgcolor\":\"white\",\"landcolor\":\"#E5ECF6\",\"subunitcolor\":\"white\",\"showland\":true,\"showlakes\":true,\"lakecolor\":\"white\"},\"title\":{\"x\":0.05},\"mapbox\":{\"style\":\"light\"}}},\"title\":{\"text\":\"mapa de localizaciones potenciales y clientes\"},\"showlegend\":false,\"autosize\":false,\"width\":600,\"height\":600},                        {\"responsive\": true}                    ).then(function(){\n",
              "                            \n",
              "var gd = document.getElementById('5fb37d45-86b9-4dfd-9011-b70c0d249dd3');\n",
              "var x = new MutationObserver(function (mutations, observer) {{\n",
              "        var display = window.getComputedStyle(gd).display;\n",
              "        if (!display || display === 'none') {{\n",
              "            console.log([gd, 'removed!']);\n",
              "            Plotly.purge(gd);\n",
              "            observer.disconnect();\n",
              "        }}\n",
              "}});\n",
              "\n",
              "// Listen for the removal of the full notebook cells\n",
              "var notebookContainer = gd.closest('#notebook-container');\n",
              "if (notebookContainer) {{\n",
              "    x.observe(notebookContainer, {childList: true});\n",
              "}}\n",
              "\n",
              "// Listen for the clearing of the current output cell\n",
              "var outputEl = gd.closest('.output');\n",
              "if (outputEl) {{\n",
              "    x.observe(outputEl, {childList: true});\n",
              "}}\n",
              "\n",
              "                        })                };                            </script>        </div>\n",
              "</body>\n",
              "</html>"
            ]
          },
          "metadata": {}
        }
      ],
      "source": [
        "# plot solución\n",
        "fig = go.Figure()\n",
        "#create a line between localizacionesPotenciales and clientes\n",
        "# First, plot the lines (so they appear below the points)\n",
        "for i in rangoClientes:\n",
        "    for j in rangoLocalizaciones:\n",
        "        if x[i][j].x > 0.99:\n",
        "            fig.add_trace(go.Scatter(\n",
        "                x=[localizacionesPotenciales.at[j, 'x'], clientes.at[i, 'x']],\n",
        "                y=[localizacionesPotenciales.at[j, 'y'], clientes.at[i, 'y']],\n",
        "                mode='lines',\n",
        "                line=dict(color='green', width=2)\n",
        "            ))\n",
        "\n",
        "fig.add_trace(go.Scatter(\n",
        "    x=localizacionesPotenciales['x'],\n",
        "    y=localizacionesPotenciales['y'],\n",
        "    mode='markers',  # Include text labels\n",
        "    name='localizacionesPotenciales',\n",
        "    marker=dict(\n",
        "        color='black',\n",
        "        size=localizacionesPotenciales['size'],    # Individual sizes per point\n",
        "        opacity=localizacionesPotenciales['opacity']  # Individual opacity per point\n",
        "    ),\n",
        "    text=localizacionesPotenciales['index'],  # Display index as text labels\n",
        "    textposition=\"top center\"\n",
        "))\n",
        "\n",
        "fig.add_trace(go.Scatter(\n",
        "    x=clientes['x'],\n",
        "    y=clientes['y'],\n",
        "    mode='markers',  # Add text labels\n",
        "    name='clientes',\n",
        "    marker=dict(color='green', size=8),  # Set color and size\n",
        "    text=clientes['name']  # Convert index to string for display\n",
        "))\n",
        "fig.update_layout(title='mapa de localizaciones potenciales y clientes')\n",
        "#remove legend\n",
        "fig.update_layout(showlegend=False)\n",
        "fig.update_layout(\n",
        "    autosize=False,\n",
        "    width=600,\n",
        "    height=600,\n",
        ")\n",
        "fig.show()\n"
      ]
    },
    {
      "cell_type": "markdown",
      "source": [
        "gray polka-dots-> valores descartados"
      ],
      "metadata": {
        "id": "Vhfa46yL7o5R"
      },
      "id": "Vhfa46yL7o5R"
    }
  ],
  "metadata": {
    "kernelspec": {
      "display_name": "Python 3 (ipykernel)",
      "language": "python",
      "name": "python3"
    },
    "language_info": {
      "codemirror_mode": {
        "name": "ipython",
        "version": 3
      },
      "file_extension": ".py",
      "mimetype": "text/x-python",
      "name": "python",
      "nbconvert_exporter": "python",
      "pygments_lexer": "ipython3",
      "version": "3.11.6"
    },
    "colab": {
      "provenance": []
    }
  },
  "nbformat": 4,
  "nbformat_minor": 5
}